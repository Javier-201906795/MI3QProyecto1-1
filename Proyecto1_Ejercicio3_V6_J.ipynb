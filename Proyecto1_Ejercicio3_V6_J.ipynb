{
 "cells": [
  {
   "cell_type": "markdown",
   "id": "02afe3a6-7aae-4630-a0cd-de7b482da9a0",
   "metadata": {},
   "source": [
    "![Ejercicio2](imagenes/ejercicio3.PNG) "
   ]
  },
  {
   "cell_type": "code",
   "execution_count": 3,
   "id": "42cb8819-2afc-4074-8bf5-e922704deb69",
   "metadata": {},
   "outputs": [],
   "source": [
    "#Librerias\n",
    "from sympy import *\n",
    "from numpy import *\n",
    "from scipy.integrate import odeint\n",
    "from matplotlib.pyplot import *\n",
    "from IPython.display import display, Markdown"
   ]
  },
  {
   "cell_type": "code",
   "execution_count": 4,
   "id": "689a1a64-c973-4fa7-907c-a5a27d373a2d",
   "metadata": {},
   "outputs": [],
   "source": [
    "#Simbolos\n",
    "a = symbols('a')\n",
    "b = symbols('b')\n",
    "t = symbols('t')\n",
    "W = Function('W')(t)"
   ]
  },
  {
   "cell_type": "code",
   "execution_count": 5,
   "id": "4891d656-0c1c-4078-b036-48e0261a4e54",
   "metadata": {},
   "outputs": [
    {
     "data": {
      "text/latex": [
       "$\\displaystyle \\frac{d}{d t} W{\\left(t \\right)} = a W^{0.666666666666667}{\\left(t \\right)} - b W{\\left(t \\right)}$"
      ],
      "text/plain": [
       "Eq(Derivative(W(t), t), a*W(t)**0.666666666666667 - b*W(t))"
      ]
     },
     "execution_count": 5,
     "metadata": {},
     "output_type": "execute_result"
    }
   ],
   "source": [
    "#Ecuacion Diferencial\n",
    "ED = Eq(W.diff(t), a*W**(2/3) - b*W)\n",
    "ED"
   ]
  },
  {
   "cell_type": "code",
   "execution_count": 6,
   "id": "da7dad3e-c972-44eb-86e0-d525d6e1a4f1",
   "metadata": {},
   "outputs": [
    {
     "data": {
      "text/latex": [
       "$\\displaystyle W{\\left(t \\right)} = \\begin{cases} - \\frac{C_{1}^{3} a^{3}}{27} + \\frac{C_{1}^{2} a^{3} t}{9} - \\frac{C_{1} a^{3} t^{2}}{9} + \\frac{a^{3} t^{3}}{27} & \\text{for}\\: b = 0 \\\\\\text{NaN} & \\text{otherwise} \\end{cases}$"
      ],
      "text/plain": [
       "Eq(W(t), Piecewise((-C1**3*a**3/27 + C1**2*a**3*t/9 - C1*a**3*t**2/9 + a**3*t**3/27, Eq(b, 0)), (nan, True)))"
      ]
     },
     "execution_count": 6,
     "metadata": {},
     "output_type": "execute_result"
    }
   ],
   "source": [
    "#Solucion Ecuacion Diferencial\n",
    "Sol = dsolve(ED)\n",
    "Sol[0]"
   ]
  },
  {
   "cell_type": "code",
   "execution_count": 7,
   "id": "813ffa1a-74ce-4b6e-bc45-db36ec26d6f3",
   "metadata": {},
   "outputs": [
    {
     "data": {
      "text/latex": [
       "$\\displaystyle W{\\left(t \\right)} = \\begin{cases} \\frac{a^{3}}{b^{3}} + \\frac{3 a^{2} e^{\\frac{C_{1} b}{3} - \\frac{b t}{3}}}{b^{2}} + \\frac{3 a e^{\\frac{2 C_{1} b}{3} - \\frac{2 b t}{3}}}{b} + e^{C_{1} b - b t} & \\text{for}\\: b \\neq 0 \\\\\\text{NaN} & \\text{otherwise} \\end{cases}$"
      ],
      "text/plain": [
       "Eq(W(t), Piecewise((a**3/b**3 + 3*a**2*exp(C1*b/3 - b*t/3)/b**2 + 3*a*exp(2*C1*b/3 - 2*b*t/3)/b + exp(C1*b - b*t), Ne(b, 0)), (nan, True)))"
      ]
     },
     "execution_count": 7,
     "metadata": {},
     "output_type": "execute_result"
    }
   ],
   "source": [
    "Sol[1]"
   ]
  },
  {
   "cell_type": "code",
   "execution_count": 8,
   "id": "eef5a4da-1a74-4c2f-9f4f-106b822a6c1a",
   "metadata": {},
   "outputs": [
    {
     "data": {
      "text/latex": [
       "$\\displaystyle W{\\left(t \\right)} = \\frac{a^{3}}{b^{3}} + \\frac{3 a^{2} e^{\\frac{C_{1} b}{3} - \\frac{b t}{3}}}{b^{2}} + \\frac{3 a e^{\\frac{2 C_{1} b}{3} - \\frac{2 b t}{3}}}{b} + e^{C_{1} b - b t}$"
      ],
      "text/plain": [
       "Eq(W(t), a**3/b**3 + 3*a**2*exp(C1*b/3 - b*t/3)/b**2 + 3*a*exp(2*C1*b/3 - 2*b*t/3)/b + exp(C1*b - b*t))"
      ]
     },
     "execution_count": 8,
     "metadata": {},
     "output_type": "execute_result"
    }
   ],
   "source": [
    "#Transcribir Solucion\n",
    "from sympy import symbols, solve, exp\n",
    "C1 = symbols('C1')\n",
    "W_solucion = (a**3/b**3) + (3*a**2 * exp(C1*b/3 - b*t/3) / b**2) + (3*a * exp(2*C1*b/3 - 2*b*t/3) / b) + exp(C1*b - b*t)\n",
    "W_solucion = Eq(W,W_solucion)\n",
    "W_solucion"
   ]
  },
  {
   "cell_type": "code",
   "execution_count": 9,
   "id": "01b892c4-764f-4120-8901-85d1bd635828",
   "metadata": {},
   "outputs": [
    {
     "data": {
      "text/latex": [
       "$\\displaystyle W{\\left(t \\right)} = \\frac{a^{3} + 3 a^{2} b e^{\\frac{b \\left(C_{1} - t\\right)}{3}} + 3 a b^{2} e^{\\frac{2 b \\left(C_{1} - t\\right)}{3}} + b^{3} e^{b \\left(C_{1} - t\\right)}}{b^{3}}$"
      ],
      "text/plain": [
       "Eq(W(t), (a**3 + 3*a**2*b*exp(b*(C1 - t)/3) + 3*a*b**2*exp(2*b*(C1 - t)/3) + b**3*exp(b*(C1 - t)))/b**3)"
      ]
     },
     "execution_count": 9,
     "metadata": {},
     "output_type": "execute_result"
    }
   ],
   "source": [
    "W_solucion2 = simplify(W_solucion)\n",
    "W_solucion2"
   ]
  },
  {
   "cell_type": "code",
   "execution_count": 10,
   "id": "8fec63ab-acf7-4f91-a973-290461b7c3fd",
   "metadata": {},
   "outputs": [
    {
     "data": {
      "text/markdown": [
       "<span style='font-size:30px; color:red;'>$$A) W{\\left(t \\right)} = \\frac{a^{3} + 3 a^{2} b e^{\\frac{b \\left(C_{1} - t\\right)}{3}} + 3 a b^{2} e^{\\frac{2 b \\left(C_{1} - t\\right)}{3}} + b^{3} e^{b \\left(C_{1} - t\\right)}}{b^{3}} $$</span>"
      ],
      "text/plain": [
       "<IPython.core.display.Markdown object>"
      ]
     },
     "metadata": {},
     "output_type": "display_data"
    }
   ],
   "source": [
    "#Imprimir Respuesta a)\n",
    "display(Markdown(f\"<span style='font-size:30px; color:red;'>$$A) {latex(W_solucion2)} $$</span>\"))\n",
    "\n"
   ]
  },
  {
   "cell_type": "markdown",
   "id": "912ea073-555a-4188-a7c4-03ce416be588",
   "metadata": {},
   "source": [
    "------"
   ]
  },
  {
   "cell_type": "code",
   "execution_count": 11,
   "id": "a3c42668-c267-4517-a551-f5fab4674291",
   "metadata": {},
   "outputs": [
    {
     "data": {
      "text/latex": [
       "$\\displaystyle W{\\left(\\infty \\right)} = \\frac{a^{3} + 3 a^{2} b e^{\\frac{b \\left(C_{1} - \\infty\\right)}{3}} + 3 a b^{2} e^{\\frac{2 b \\left(C_{1} - \\infty\\right)}{3}} + b^{3} e^{b \\left(C_{1} - \\infty\\right)}}{b^{3}}$"
      ],
      "text/plain": [
       "Eq(W(oo), (a**3 + 3*a**2*b*exp(b*(C1 - oo)/3) + 3*a*b**2*exp(2*b*(C1 - oo)/3) + b**3*exp(b*(C1 - oo)))/b**3)"
      ]
     },
     "execution_count": 11,
     "metadata": {},
     "output_type": "execute_result"
    }
   ],
   "source": [
    "from sympy import symbols, limit, oo, exp\n",
    "W_infinito = W_solucion2.subs(t,oo)\n",
    "W_infinito"
   ]
  },
  {
   "cell_type": "code",
   "execution_count": 12,
   "id": "a0c59268-7924-45d7-a9e2-ffd60960bc46",
   "metadata": {},
   "outputs": [
    {
     "data": {
      "text/latex": [
       "$\\displaystyle W{\\left(\\infty \\right)} = \\frac{a^{3}}{b^{3}}$"
      ],
      "text/plain": [
       "Eq(W(oo), a**3/b**3)"
      ]
     },
     "execution_count": 12,
     "metadata": {},
     "output_type": "execute_result"
    }
   ],
   "source": [
    "W_infinito2 = Eq(W,((a**3 + 3*a**2*b*0/3) + 3*a*b**2*0 + b**3*0) / b**3)\n",
    "W_infinito2 = W_infinito2.subs(t,oo)\n",
    "W_infinito2"
   ]
  },
  {
   "cell_type": "code",
   "execution_count": 13,
   "id": "1b2f5ff9-f564-474d-bbd9-f157ad8a60c1",
   "metadata": {},
   "outputs": [
    {
     "data": {
      "text/markdown": [
       "<span style='font-size:30px; color:red;'>$$B) W{\\left(\\infty \\right)} = \\frac{a^{3}}{b^{3}} $$</span>"
      ],
      "text/plain": [
       "<IPython.core.display.Markdown object>"
      ]
     },
     "metadata": {},
     "output_type": "display_data"
    }
   ],
   "source": [
    "#Imprimir Respuesta B)\n",
    "display(Markdown(f\"<span style='font-size:30px; color:red;'>$$B) {latex(W_infinito2)} $$</span>\"))"
   ]
  },
  {
   "cell_type": "markdown",
   "id": "008d8db5-5c9a-4114-9ddd-f899922bdef9",
   "metadata": {},
   "source": [
    "-----------"
   ]
  },
  {
   "cell_type": "code",
   "execution_count": 14,
   "id": "d3107a69-f441-43f4-b07d-3a8348b76e94",
   "metadata": {},
   "outputs": [
    {
     "data": {
      "text/latex": [
       "$\\displaystyle W{\\left(t \\right)} = \\frac{a^{3} + 3 a^{2} b e^{\\frac{b \\left(C_{1} - t\\right)}{3}} + 3 a b^{2} e^{\\frac{2 b \\left(C_{1} - t\\right)}{3}} + b^{3} e^{b \\left(C_{1} - t\\right)}}{b^{3}}$"
      ],
      "text/plain": [
       "Eq(W(t), (a**3 + 3*a**2*b*exp(b*(C1 - t)/3) + 3*a*b**2*exp(2*b*(C1 - t)/3) + b**3*exp(b*(C1 - t)))/b**3)"
      ]
     },
     "execution_count": 14,
     "metadata": {},
     "output_type": "execute_result"
    }
   ],
   "source": [
    "W_solucion2"
   ]
  },
  {
   "cell_type": "code",
   "execution_count": 34,
   "id": "7618451f-6a7f-443b-b362-f73aade2d2a7",
   "metadata": {},
   "outputs": [
    {
     "data": {
      "text/latex": [
       "$\\displaystyle C_{1} = \\frac{b t - 3 \\log{\\left(b \\right)} + \\log{\\left(- \\left(a - b \\sqrt[3]{W{\\left(t \\right)}}\\right)^{3} \\right)}}{b}$"
      ],
      "text/plain": [
       "Eq(C1, (b*t - 3*log(b) + log(-(a - b*W(t)**(1/3))**3))/b)"
      ]
     },
     "execution_count": 34,
     "metadata": {},
     "output_type": "execute_result"
    }
   ],
   "source": [
    "#Despejar C1\n",
    "c1 = solve(W_solucion2,C1)[0]\n",
    "c1 = Eq(C1, c1)\n",
    "c1"
   ]
  },
  {
   "cell_type": "code",
   "execution_count": 35,
   "id": "469c8a60-53c2-4340-898a-fa16bce9dac0",
   "metadata": {},
   "outputs": [
    {
     "data": {
      "text/latex": [
       "$\\displaystyle C_{1} = \\frac{b t + \\log{\\left(- a^{3} \\right)} - 3 \\log{\\left(b \\right)}}{b}$"
      ],
      "text/plain": [
       "Eq(C1, (b*t + log(-a**3) - 3*log(b))/b)"
      ]
     },
     "execution_count": 35,
     "metadata": {},
     "output_type": "execute_result"
    }
   ],
   "source": [
    "#Condicion inicial W(0)=0\n",
    "#Sustituir W = 0\n",
    "c1_sol1 = c1.subs(W,0)\n",
    "c1_sol1"
   ]
  },
  {
   "cell_type": "code",
   "execution_count": 36,
   "id": "ee311f9b-ae51-4ac0-b627-6d280398f08b",
   "metadata": {},
   "outputs": [
    {
     "data": {
      "text/latex": [
       "$\\displaystyle C_{1} = \\frac{\\log{\\left(- a^{3} \\right)} - 3 \\log{\\left(b \\right)}}{b}$"
      ],
      "text/plain": [
       "Eq(C1, (log(-a**3) - 3*log(b))/b)"
      ]
     },
     "execution_count": 36,
     "metadata": {},
     "output_type": "execute_result"
    }
   ],
   "source": [
    "#Condicion inicial W(0)=0\n",
    "#Sustituir t = 0\n",
    "c1_sol2 = c1_sol1.subs(t,0)\n",
    "c1_sol2"
   ]
  },
  {
   "cell_type": "code",
   "execution_count": 37,
   "id": "393b0793-0634-42a6-ae47-d7cea2ef9af0",
   "metadata": {},
   "outputs": [
    {
     "data": {
      "text/latex": [
       "$\\displaystyle W{\\left(t \\right)} = \\frac{a^{3} + 3 a^{2} b e^{\\frac{b \\left(- t + \\frac{\\log{\\left(- a^{3} \\right)} - 3 \\log{\\left(b \\right)}}{b}\\right)}{3}} + 3 a b^{2} e^{\\frac{2 b \\left(- t + \\frac{\\log{\\left(- a^{3} \\right)} - 3 \\log{\\left(b \\right)}}{b}\\right)}{3}} + b^{3} e^{b \\left(- t + \\frac{\\log{\\left(- a^{3} \\right)} - 3 \\log{\\left(b \\right)}}{b}\\right)}}{b^{3}}$"
      ],
      "text/plain": [
       "Eq(W(t), (a**3 + 3*a**2*b*exp(b*(-t + (log(-a**3) - 3*log(b))/b)/3) + 3*a*b**2*exp(2*b*(-t + (log(-a**3) - 3*log(b))/b)/3) + b**3*exp(b*(-t + (log(-a**3) - 3*log(b))/b)))/b**3)"
      ]
     },
     "execution_count": 37,
     "metadata": {},
     "output_type": "execute_result"
    }
   ],
   "source": [
    "#Remplazar C1 \n",
    "W_sol3 = W_solucion2.subs(C1,c1_sol2.rhs)\n",
    "W_sol3"
   ]
  },
  {
   "cell_type": "code",
   "execution_count": 38,
   "id": "a935e52c-229b-4f18-8ee4-4ee3391949b4",
   "metadata": {},
   "outputs": [
    {
     "data": {
      "text/markdown": [
       "<span style='font-size:20px;'>$$B) W{\\left(t \\right)} = \\frac{a^{3} + 3 a^{2} b e^{\\frac{b \\left(- t + \\frac{\\log{\\left(- a^{3} \\right)} - 3 \\log{\\left(b \\right)}}{b}\\right)}{3}} + 3 a b^{2} e^{\\frac{2 b \\left(- t + \\frac{\\log{\\left(- a^{3} \\right)} - 3 \\log{\\left(b \\right)}}{b}\\right)}{3}} + b^{3} e^{b \\left(- t + \\frac{\\log{\\left(- a^{3} \\right)} - 3 \\log{\\left(b \\right)}}{b}\\right)}}{b^{3}} $$</span>"
      ],
      "text/plain": [
       "<IPython.core.display.Markdown object>"
      ]
     },
     "metadata": {},
     "output_type": "display_data"
    }
   ],
   "source": [
    "#Imprimir Respuesta B)\n",
    "display(Markdown(f\"<span style='font-size:20px;'>$$B) {latex(W_sol3)} $$</span>\"))"
   ]
  },
  {
   "cell_type": "code",
   "execution_count": 60,
   "id": "c8a40c4d-d522-4c59-971d-8ce48113161d",
   "metadata": {},
   "outputs": [
    {
     "data": {
      "text/markdown": [
       "<span style='font-size:20px;'>Suponiendo a y b son constates = 2 </span>"
      ],
      "text/plain": [
       "<IPython.core.display.Markdown object>"
      ]
     },
     "metadata": {},
     "output_type": "display_data"
    },
    {
     "data": {
      "text/markdown": [
       "<span style='font-size:20px;'>a = 2 </span>"
      ],
      "text/plain": [
       "<IPython.core.display.Markdown object>"
      ]
     },
     "metadata": {},
     "output_type": "display_data"
    },
    {
     "data": {
      "text/markdown": [
       "<span style='font-size:20px;'>b = 2 </span>"
      ],
      "text/plain": [
       "<IPython.core.display.Markdown object>"
      ]
     },
     "metadata": {},
     "output_type": "display_data"
    }
   ],
   "source": [
    "display(Markdown(f\"<span style='font-size:20px;'>Suponiendo a y b son constates = 2 </span>\"))\n",
    "display(Markdown(f\"<span style='font-size:20px;'>a = 2 </span>\"))\n",
    "display(Markdown(f\"<span style='font-size:20px;'>b = 2 </span>\"))"
   ]
  },
  {
   "cell_type": "code",
   "execution_count": 54,
   "id": "cb815e92-c69f-4240-a6e5-367aef8cce85",
   "metadata": {},
   "outputs": [
    {
     "data": {
      "text/latex": [
       "$\\displaystyle W{\\left(t \\right)} = \\frac{b^{3} e^{b \\left(- t + \\frac{- 3 \\log{\\left(b \\right)} + \\log{\\left(8 \\right)} + i \\pi}{b}\\right)} + 6 b^{2} e^{\\frac{2 b \\left(- t + \\frac{- 3 \\log{\\left(b \\right)} + \\log{\\left(8 \\right)} + i \\pi}{b}\\right)}{3}} + 12 b e^{\\frac{b \\left(- t + \\frac{- 3 \\log{\\left(b \\right)} + \\log{\\left(8 \\right)} + i \\pi}{b}\\right)}{3}} + 8}{b^{3}}$"
      ],
      "text/plain": [
       "Eq(W(t), (b**3*exp(b*(-t + (-3*log(b) + log(8) + I*pi)/b)) + 6*b**2*exp(2*b*(-t + (-3*log(b) + log(8) + I*pi)/b)/3) + 12*b*exp(b*(-t + (-3*log(b) + log(8) + I*pi)/b)/3) + 8)/b**3)"
      ]
     },
     "execution_count": 54,
     "metadata": {},
     "output_type": "execute_result"
    }
   ],
   "source": [
    "#Remplazar a = 1\n",
    "W_sol4 = W_sol3.subs(a,2)\n",
    "W_sol4"
   ]
  },
  {
   "cell_type": "code",
   "execution_count": 61,
   "id": "ba5774f5-c05f-4334-9d68-f4e1153593a8",
   "metadata": {},
   "outputs": [
    {
     "data": {
      "text/latex": [
       "$\\displaystyle W{\\left(t \\right)} = 3 e^{- \\frac{4 t}{3} + \\frac{2 i \\pi}{3}} + 3 e^{- \\frac{2 t}{3} + \\frac{i \\pi}{3}} + 1 - e^{- 2 t}$"
      ],
      "text/plain": [
       "Eq(W(t), 3*exp(-4*t/3 + 2*I*pi/3) + 3*exp(-2*t/3 + I*pi/3) + 1 - exp(-2*t))"
      ]
     },
     "execution_count": 61,
     "metadata": {},
     "output_type": "execute_result"
    }
   ],
   "source": [
    "#Remplazar b = 1\n",
    "W_sol5 = W_sol4.subs(b,2)\n",
    "W_sol5"
   ]
  },
  {
   "cell_type": "code",
   "execution_count": 62,
   "id": "22c32c5e-0cdc-4d8a-b209-641d756e28e1",
   "metadata": {},
   "outputs": [
    {
     "data": {
      "text/markdown": [
       "<center><span style='font-size:30px;'>Suponiendo a = 2 y b = 2</span></center>"
      ],
      "text/plain": [
       "<IPython.core.display.Markdown object>"
      ]
     },
     "metadata": {},
     "output_type": "display_data"
    },
    {
     "data": {
      "text/markdown": [
       "<span style='font-size:20px;'>$$B) W{\\left(t \\right)} = 3 e^{- \\frac{4 t}{3} + \\frac{2 i \\pi}{3}} + 3 e^{- \\frac{2 t}{3} + \\frac{i \\pi}{3}} + 1 - e^{- 2 t} $$</span>"
      ],
      "text/plain": [
       "<IPython.core.display.Markdown object>"
      ]
     },
     "metadata": {},
     "output_type": "display_data"
    }
   ],
   "source": [
    "display(Markdown(f\"<center><span style='font-size:30px;'>Suponiendo a = 2 y b = 2</span></center>\"))\n",
    "display(Markdown(f\"<span style='font-size:20px;'>$$B) {latex(W_sol5)} $$</span>\"))"
   ]
  },
  {
   "cell_type": "code",
   "execution_count": 67,
   "id": "de4b7b64-a06d-4dfd-9179-b685f892e6ad",
   "metadata": {},
   "outputs": [],
   "source": [
    "#Crear funcion\n",
    "def W1(t):\n",
    "    return 3 * np.exp(-4*t/3 + 2j*np.pi/3) + 3 * np.exp(-2*t/3 + 1j*np.pi/3) + 1 - np.exp(-2*t)"
   ]
  },
  {
   "cell_type": "code",
   "execution_count": 68,
   "id": "22cb4c8e-53b7-4585-853e-c8bed6175ad6",
   "metadata": {},
   "outputs": [
    {
     "data": {
      "text/plain": [
       "(1.272854891450654+0.8653687556239733j)"
      ]
     },
     "execution_count": 68,
     "metadata": {},
     "output_type": "execute_result"
    }
   ],
   "source": [
    "W1(2)"
   ]
  },
  {
   "cell_type": "code",
   "execution_count": 74,
   "id": "8b6b4e21-454e-4eca-b97d-8a76fc2f9a30",
   "metadata": {},
   "outputs": [
    {
     "data": {
      "text/plain": [
       "'W{\\\\left(t \\\\right)} = 3 e^{- \\\\frac{4 t}{3} + \\\\frac{2 i \\\\pi}{3}} + 3 e^{- \\\\frac{2 t}{3} + \\\\frac{i \\\\pi}{3}} + 1 - e^{- 2 t}'"
      ]
     },
     "execution_count": 74,
     "metadata": {},
     "output_type": "execute_result"
    }
   ],
   "source": [
    "latex(W_sol5)"
   ]
  },
  {
   "cell_type": "code",
   "execution_count": 119,
   "id": "26ebd030-f2a2-4b22-a8f4-a3125be33070",
   "metadata": {},
   "outputs": [
    {
     "data": {
      "image/png": "[encoded data removed]",
      "text/plain": [
       "<Figure size 800x600 with 1 Axes>"
      ]
     },
     "metadata": {},
     "output_type": "display_data"
    }
   ],
   "source": [
    "# Creamos un rango de valores para t\n",
    "t_values = np.linspace(0, 50, 400)\n",
    "\n",
    "# Evaluamos la función en el rango de valores de t\n",
    "W_values = W1(t_values)\n",
    "\n",
    "# Graficamos la parte real e imaginaria de la función\n",
    "figure(figsize=(8, 6))\n",
    "plot(t_values, np.real(W_values), label='Parte Real')\n",
    "plot(t_values, np.imag(W_values), label='Parte Imaginaria')\n",
    "xlabel('t')\n",
    "ylabel('W(t)')\n",
    "title('W{\\\\left(t \\\\right)} = 3 e^{- \\\\frac{4 t}{3} + \\\\frac{2 i \\\\pi}{3}} + 3 e^{- \\\\frac{2 t}{3} + \\\\frac{i \\\\pi}{3}} + 1 - e^{- 2 t}')\n",
    "legend()\n",
    "grid(True)\n",
    "show()"
   ]
  },
  {
   "cell_type": "code",
   "execution_count": 110,
   "id": "b48f4503-d27b-4c5f-b8d2-88aa4d446e7d",
   "metadata": {},
   "outputs": [
    {
     "data": {
      "text/latex": [
       "$\\displaystyle W{\\left(t \\right)} = 3 e^{\\frac{C_{1}}{3} - \\frac{t}{3}} + 3 e^{\\frac{2 C_{1}}{3} - \\frac{2 t}{3}} + e^{C_{1} - t} + 1$"
      ],
      "text/plain": [
       "Eq(W(t), 3*exp(C1/3 - t/3) + 3*exp(2*C1/3 - 2*t/3) + exp(C1 - t) + 1)"
      ]
     },
     "execution_count": 110,
     "metadata": {},
     "output_type": "execute_result"
    }
   ],
   "source": [
    "W_sol25 = W_solucion2.subs(a,1)\n",
    "W_sol26 = W_sol25.subs(b,1)\n",
    "W_sol26"
   ]
  },
  {
   "cell_type": "code",
   "execution_count": 115,
   "id": "da58107f-471c-4b71-a2e8-d6dee785fb2e",
   "metadata": {},
   "outputs": [
    {
     "data": {
      "text/latex": [
       "$\\displaystyle 0 = 3 e^{\\frac{C_{1}}{3} - \\frac{t}{3}} + 3 e^{\\frac{2 C_{1}}{3} - \\frac{2 t}{3}} + e^{C_{1} - t} + 1$"
      ],
      "text/plain": [
       "Eq(0, 3*exp(C1/3 - t/3) + 3*exp(2*C1/3 - 2*t/3) + exp(C1 - t) + 1)"
      ]
     },
     "execution_count": 115,
     "metadata": {},
     "output_type": "execute_result"
    }
   ],
   "source": [
    "W_sol27 = W_sol26.subs(W,0)\n",
    "W_sol27"
   ]
  },
  {
   "cell_type": "code",
   "execution_count": 112,
   "id": "e96051aa-4b09-453d-9fb3-a1d6d133140c",
   "metadata": {},
   "outputs": [
    {
     "data": {
      "text/latex": [
       "$\\displaystyle W{\\left(0 \\right)} = 3 e^{\\frac{2 C_{1}}{3}} + 3 e^{\\frac{C_{1}}{3}} + e^{C_{1}} + 1$"
      ],
      "text/plain": [
       "Eq(W(0), 3*exp(2*C1/3) + 3*exp(C1/3) + exp(C1) + 1)"
      ]
     },
     "execution_count": 112,
     "metadata": {},
     "output_type": "execute_result"
    }
   ],
   "source": [
    "W_sol27 = W_sol26.subs(t,0)\n",
    "W_sol27"
   ]
  },
  {
   "cell_type": "code",
   "execution_count": 117,
   "id": "cffe3c30-6c87-4f35-9f32-2f4ad1ba1823",
   "metadata": {},
   "outputs": [
    {
     "data": {
      "text/plain": [
       "[]"
      ]
     },
     "execution_count": 117,
     "metadata": {},
     "output_type": "execute_result"
    }
   ],
   "source": [
    "c1_sol7 = solve(W_sol27,C1)\n",
    "c1_sol7"
   ]
  },
  {
   "cell_type": "code",
   "execution_count": 108,
   "id": "60a03b08-bdd9-4cab-ac69-641b86cf62dd",
   "metadata": {},
   "outputs": [
    {
     "data": {
      "text/latex": [
       "$\\displaystyle \\log{\\left(\\left(\\left(- \\frac{1}{2} - \\frac{\\sqrt{3} i}{2}\\right) \\sqrt[3]{W{\\left(0 \\right)}} - 1\\right)^{3} \\right)}$"
      ],
      "text/plain": [
       "log(((-1/2 - sqrt(3)*I/2)*W(0)**(1/3) - 1)**3)"
      ]
     },
     "execution_count": 108,
     "metadata": {},
     "output_type": "execute_result"
    }
   ],
   "source": [
    "c1_sol7[0].subs(W,0)"
   ]
  },
  {
   "cell_type": "code",
   "execution_count": 98,
   "id": "7f0187cb-a916-456e-ab3e-dc0b07dbacf3",
   "metadata": {},
   "outputs": [
    {
     "data": {
      "text/latex": [
       "$\\displaystyle W{\\left(0 \\right)} = 3 e^{\\frac{2 C_{1}}{3}} + 3 e^{\\frac{C_{1}}{3}} + e^{C_{1}} + 1$"
      ],
      "text/plain": [
       "Eq(W(0), 3*exp(2*C1/3) + 3*exp(C1/3) + exp(C1) + 1)"
      ]
     },
     "execution_count": 98,
     "metadata": {},
     "output_type": "execute_result"
    }
   ],
   "source": [
    "W_sol28 = W_sol27.subs(W,0)\n",
    "W_sol28"
   ]
  }
 ],
 "metadata": {
  "kernelspec": {
   "display_name": "Python 3 (ipykernel)",
   "language": "python",
   "name": "python3"
  },
  "language_info": {
   "codemirror_mode": {
    "name": "ipython",
    "version": 3
   },
   "file_extension": ".py",
   "mimetype": "text/x-python",
   "name": "python",
   "nbconvert_exporter": "python",
   "pygments_lexer": "ipython3",
   "version": "3.11.7"
  }
 },
 "nbformat": 4,
 "nbformat_minor": 5
}
