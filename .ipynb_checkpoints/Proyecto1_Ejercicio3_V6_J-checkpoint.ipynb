{
 "cells": [
  {
   "cell_type": "markdown",
   "id": "02afe3a6-7aae-4630-a0cd-de7b482da9a0",
   "metadata": {},
   "source": [
    "![Ejercicio2](imagenes/ejercicio3.PNG) "
   ]
  },
  {
   "cell_type": "code",
   "execution_count": 4,
   "id": "42cb8819-2afc-4074-8bf5-e922704deb69",
   "metadata": {},
   "outputs": [],
   "source": [
    "#Librerias\n",
    "from sympy import *\n",
    "from numpy import *\n",
    "from scipy.integrate import odeint\n",
    "from matplotlib.pyplot import *\n",
    "from IPython.display import display, Markdown"
   ]
  },
  {
   "cell_type": "code",
   "execution_count": 5,
   "id": "689a1a64-c973-4fa7-907c-a5a27d373a2d",
   "metadata": {},
   "outputs": [],
   "source": [
    "#Simbolos\n",
    "a = symbols('a')\n",
    "b = symbols('b')\n",
    "t = symbols('t')\n",
    "W = Function('W')(t)"
   ]
  },
  {
   "cell_type": "code",
   "execution_count": 6,
   "id": "4891d656-0c1c-4078-b036-48e0261a4e54",
   "metadata": {},
   "outputs": [
    {
     "data": {
      "text/latex": [
       "$\\displaystyle \\frac{d}{d t} W{\\left(t \\right)} = a W^{0.666666666666667}{\\left(t \\right)} - b W{\\left(t \\right)}$"
      ],
      "text/plain": [
       "Eq(Derivative(W(t), t), a*W(t)**0.666666666666667 - b*W(t))"
      ]
     },
     "execution_count": 6,
     "metadata": {},
     "output_type": "execute_result"
    }
   ],
   "source": [
    "#Ecuacion Diferencial\n",
    "ED = Eq(W.diff(t), a*W**(2/3) - b*W)\n",
    "ED"
   ]
  },
  {
   "cell_type": "code",
   "execution_count": 7,
   "id": "da7dad3e-c972-44eb-86e0-d525d6e1a4f1",
   "metadata": {},
   "outputs": [
    {
     "data": {
      "text/latex": [
       "$\\displaystyle W{\\left(t \\right)} = \\begin{cases} - \\frac{C_{1}^{3} a^{3}}{27} + \\frac{C_{1}^{2} a^{3} t}{9} - \\frac{C_{1} a^{3} t^{2}}{9} + \\frac{a^{3} t^{3}}{27} & \\text{for}\\: b = 0 \\\\\\text{NaN} & \\text{otherwise} \\end{cases}$"
      ],
      "text/plain": [
       "Eq(W(t), Piecewise((-C1**3*a**3/27 + C1**2*a**3*t/9 - C1*a**3*t**2/9 + a**3*t**3/27, Eq(b, 0)), (nan, True)))"
      ]
     },
     "execution_count": 7,
     "metadata": {},
     "output_type": "execute_result"
    }
   ],
   "source": [
    "#Solucion Ecuacion Diferencial\n",
    "Sol = dsolve(ED)\n",
    "Sol[0]"
   ]
  },
  {
   "cell_type": "code",
   "execution_count": 8,
   "id": "813ffa1a-74ce-4b6e-bc45-db36ec26d6f3",
   "metadata": {},
   "outputs": [
    {
     "data": {
      "text/latex": [
       "$\\displaystyle W{\\left(t \\right)} = \\begin{cases} \\frac{a^{3}}{b^{3}} + \\frac{3 a^{2} e^{\\frac{C_{1} b}{3} - \\frac{b t}{3}}}{b^{2}} + \\frac{3 a e^{\\frac{2 C_{1} b}{3} - \\frac{2 b t}{3}}}{b} + e^{C_{1} b - b t} & \\text{for}\\: b \\neq 0 \\\\\\text{NaN} & \\text{otherwise} \\end{cases}$"
      ],
      "text/plain": [
       "Eq(W(t), Piecewise((a**3/b**3 + 3*a**2*exp(C1*b/3 - b*t/3)/b**2 + 3*a*exp(2*C1*b/3 - 2*b*t/3)/b + exp(C1*b - b*t), Ne(b, 0)), (nan, True)))"
      ]
     },
     "execution_count": 8,
     "metadata": {},
     "output_type": "execute_result"
    }
   ],
   "source": [
    "Sol[1]"
   ]
  },
  {
   "cell_type": "code",
   "execution_count": 12,
   "id": "eef5a4da-1a74-4c2f-9f4f-106b822a6c1a",
   "metadata": {},
   "outputs": [
    {
     "data": {
      "text/latex": [
       "$\\displaystyle W{\\left(t \\right)} = \\frac{a^{3}}{b^{3}} + \\frac{3 a^{2} e^{\\frac{C_{1} b}{3} - \\frac{b t}{3}}}{b^{2}} + \\frac{3 a e^{\\frac{2 C_{1} b}{3} - \\frac{2 b t}{3}}}{b} + e^{C_{1} b - b t}$"
      ],
      "text/plain": [
       "Eq(W(t), a**3/b**3 + 3*a**2*exp(C1*b/3 - b*t/3)/b**2 + 3*a*exp(2*C1*b/3 - 2*b*t/3)/b + exp(C1*b - b*t))"
      ]
     },
     "execution_count": 12,
     "metadata": {},
     "output_type": "execute_result"
    }
   ],
   "source": [
    "#Transcribir Solucion\n",
    "from sympy import symbols, solve, exp\n",
    "C1 = symbols('C1')\n",
    "W_solucion = (a**3/b**3) + (3*a**2 * exp(C1*b/3 - b*t/3) / b**2) + (3*a * exp(2*C1*b/3 - 2*b*t/3) / b) + exp(C1*b - b*t)\n",
    "W_solucion = Eq(W,W_solucion)\n",
    "W_solucion"
   ]
  },
  {
   "cell_type": "code",
   "execution_count": 13,
   "id": "01b892c4-764f-4120-8901-85d1bd635828",
   "metadata": {},
   "outputs": [
    {
     "data": {
      "text/latex": [
       "$\\displaystyle W{\\left(t \\right)} = \\frac{a^{3} + 3 a^{2} b e^{\\frac{b \\left(C_{1} - t\\right)}{3}} + 3 a b^{2} e^{\\frac{2 b \\left(C_{1} - t\\right)}{3}} + b^{3} e^{b \\left(C_{1} - t\\right)}}{b^{3}}$"
      ],
      "text/plain": [
       "Eq(W(t), (a**3 + 3*a**2*b*exp(b*(C1 - t)/3) + 3*a*b**2*exp(2*b*(C1 - t)/3) + b**3*exp(b*(C1 - t)))/b**3)"
      ]
     },
     "execution_count": 13,
     "metadata": {},
     "output_type": "execute_result"
    }
   ],
   "source": [
    "W_solucion2 = simplify(W_solucion)\n",
    "W_solucion2"
   ]
  },
  {
   "cell_type": "code",
   "execution_count": 14,
   "id": "8fec63ab-acf7-4f91-a973-290461b7c3fd",
   "metadata": {},
   "outputs": [
    {
     "data": {
      "text/markdown": [
       "<span style='font-size:30px; color:red;'>$$A) W{\\left(t \\right)} = \\frac{a^{3} + 3 a^{2} b e^{\\frac{b \\left(C_{1} - t\\right)}{3}} + 3 a b^{2} e^{\\frac{2 b \\left(C_{1} - t\\right)}{3}} + b^{3} e^{b \\left(C_{1} - t\\right)}}{b^{3}} $$</span>"
      ],
      "text/plain": [
       "<IPython.core.display.Markdown object>"
      ]
     },
     "metadata": {},
     "output_type": "display_data"
    }
   ],
   "source": [
    "#Imprimir Respuesta a)\n",
    "display(Markdown(f\"<span style='font-size:30px; color:red;'>$$A) {latex(W_solucion2)} $$</span>\"))\n",
    "\n"
   ]
  },
  {
   "cell_type": "markdown",
   "id": "912ea073-555a-4188-a7c4-03ce416be588",
   "metadata": {},
   "source": [
    "------"
   ]
  },
  {
   "cell_type": "code",
   "execution_count": 15,
   "id": "a3c42668-c267-4517-a551-f5fab4674291",
   "metadata": {},
   "outputs": [
    {
     "data": {
      "text/latex": [
       "$\\displaystyle W{\\left(\\infty \\right)} = \\frac{a^{3} + 3 a^{2} b e^{\\frac{b \\left(C_{1} - \\infty\\right)}{3}} + 3 a b^{2} e^{\\frac{2 b \\left(C_{1} - \\infty\\right)}{3}} + b^{3} e^{b \\left(C_{1} - \\infty\\right)}}{b^{3}}$"
      ],
      "text/plain": [
       "Eq(W(oo), (a**3 + 3*a**2*b*exp(b*(C1 - oo)/3) + 3*a*b**2*exp(2*b*(C1 - oo)/3) + b**3*exp(b*(C1 - oo)))/b**3)"
      ]
     },
     "execution_count": 15,
     "metadata": {},
     "output_type": "execute_result"
    }
   ],
   "source": [
    "from sympy import symbols, limit, oo, exp\n",
    "W_infinito = W_solucion2.subs(t,oo)\n",
    "W_infinito"
   ]
  },
  {
   "cell_type": "code",
   "execution_count": 16,
   "id": "a0c59268-7924-45d7-a9e2-ffd60960bc46",
   "metadata": {},
   "outputs": [
    {
     "data": {
      "text/latex": [
       "$\\displaystyle W{\\left(\\infty \\right)} = \\frac{a^{3}}{b^{3}}$"
      ],
      "text/plain": [
       "Eq(W(oo), a**3/b**3)"
      ]
     },
     "execution_count": 16,
     "metadata": {},
     "output_type": "execute_result"
    }
   ],
   "source": [
    "W_infinito2 = Eq(W,((a**3 + 3*a**2*b*0/3) + 3*a*b**2*0 + b**3*0) / b**3)\n",
    "W_infinito2 = W_infinito2.subs(t,oo)\n",
    "W_infinito2"
   ]
  },
  {
   "cell_type": "code",
   "execution_count": 17,
   "id": "1b2f5ff9-f564-474d-bbd9-f157ad8a60c1",
   "metadata": {},
   "outputs": [
    {
     "data": {
      "text/markdown": [
       "<span style='font-size:30px; color:red;'>$$B) W{\\left(\\infty \\right)} = \\frac{a^{3}}{b^{3}} $$</span>"
      ],
      "text/plain": [
       "<IPython.core.display.Markdown object>"
      ]
     },
     "metadata": {},
     "output_type": "display_data"
    }
   ],
   "source": [
    "#Imprimir Respuesta B)\n",
    "display(Markdown(f\"<span style='font-size:30px; color:red;'>$$B) {latex(W_infinito2)} $$</span>\"))"
   ]
  },
  {
   "cell_type": "markdown",
   "id": "008d8db5-5c9a-4114-9ddd-f899922bdef9",
   "metadata": {},
   "source": [
    "-----------"
   ]
  },
  {
   "cell_type": "code",
   "execution_count": 26,
   "id": "d3107a69-f441-43f4-b07d-3a8348b76e94",
   "metadata": {},
   "outputs": [
    {
     "data": {
      "text/latex": [
       "$\\displaystyle W{\\left(t \\right)} = \\frac{a^{3} + 3 a^{2} b e^{\\frac{b \\left(C_{1} - t\\right)}{3}} + 3 a b^{2} e^{\\frac{2 b \\left(C_{1} - t\\right)}{3}} + b^{3} e^{b \\left(C_{1} - t\\right)}}{b^{3}}$"
      ],
      "text/plain": [
       "Eq(W(t), (a**3 + 3*a**2*b*exp(b*(C1 - t)/3) + 3*a*b**2*exp(2*b*(C1 - t)/3) + b**3*exp(b*(C1 - t)))/b**3)"
      ]
     },
     "execution_count": 26,
     "metadata": {},
     "output_type": "execute_result"
    }
   ],
   "source": [
    "W_solucion2"
   ]
  },
  {
   "cell_type": "code",
   "execution_count": 19,
   "id": "b3131570-824b-4c32-8ac6-613d13c4cd21",
   "metadata": {},
   "outputs": [
    {
     "data": {
      "text/latex": [
       "$\\displaystyle \\frac{a^{3} + 3 a^{2} b e^{\\frac{b \\left(C_{1} - t\\right)}{3}} + 3 a b^{2} e^{\\frac{2 b \\left(C_{1} - t\\right)}{3}} + b^{3} e^{b \\left(C_{1} - t\\right)}}{b^{3}}$"
      ],
      "text/plain": [
       "(a**3 + 3*a**2*b*exp(b*(C1 - t)/3) + 3*a*b**2*exp(2*b*(C1 - t)/3) + b**3*exp(b*(C1 - t)))/b**3"
      ]
     },
     "execution_count": 19,
     "metadata": {},
     "output_type": "execute_result"
    }
   ],
   "source": [
    "W_1 = W_solucion2.rhs\n",
    "W_1"
   ]
  },
  {
   "cell_type": "code",
   "execution_count": 23,
   "id": "efc215c5-17aa-4f78-affd-1eeca933fbd4",
   "metadata": {},
   "outputs": [
    {
     "data": {
      "text/plain": [
       "'\\\\frac{a^{3} + 3 a^{2} b e^{\\\\frac{b \\\\left(C_{1} - t\\\\right)}{3}} + 3 a b^{2} e^{\\\\frac{2 b \\\\left(C_{1} - t\\\\right)}{3}} + b^{3} e^{b \\\\left(C_{1} - t\\\\right)}}{b^{3}}'"
      ]
     },
     "execution_count": 23,
     "metadata": {},
     "output_type": "execute_result"
    }
   ],
   "source": [
    "latex(W_1)"
   ]
  },
  {
   "cell_type": "code",
   "execution_count": 25,
   "id": "48290851-9b10-4047-bfcf-396d99c983b4",
   "metadata": {},
   "outputs": [
    {
     "ename": "SympifyError",
     "evalue": "Sympify of expression 'could not parse '\\\\\\\\frac{a^{3} + 3 a^{2} b e^{\\\\\\\\frac{b \\\\\\\\left(C_{1} - t\\\\\\\\right)}{3}} + 3 a b^{2} e^{\\\\\\\\frac{2 b \\\\\\\\left(C_{1} - t\\\\\\\\right)}{3}} + b^{3} e^{b \\\\\\\\left(C_{1} - t\\\\\\\\right)}}{b^{3}}'' failed, because of exception being raised:\nSyntaxError: unexpected character after line continuation character (<string>, line 1)",
     "output_type": "error",
     "traceback": [
      "\u001b[1;31m---------------------------------------------------------------------------\u001b[0m",
      "\u001b[1;31mValueError\u001b[0m                                Traceback (most recent call last)",
      "\u001b[1;31mValueError\u001b[0m: Error from parse_expr with transformed code: \"\\\\\\\\frac {Symbol ('a' )**{Integer (3 )}+Integer (3 )Symbol ('a' )**{Integer (2 )}Symbol ('b' )Symbol ('e' )**{\\\\\\\\frac {Symbol ('b' ) \\\\\\\\Function ('left' )(Symbol ('C_' ){Integer (1 )}-Symbol ('t' )\\\\\\\\Symbol ('right' ))}{Integer (3 )}}+Integer (3 )Symbol ('a' )Symbol ('b' )**{Integer (2 )}Symbol ('e' )**{\\\\\\\\frac {Integer (2 )Symbol ('b' ) \\\\\\\\Function ('left' )(Symbol ('C_' ){Integer (1 )}-Symbol ('t' )\\\\\\\\Symbol ('right' ))}{Integer (3 )}}+Symbol ('b' )**{Integer (3 )}Symbol ('e' )**{Symbol ('b' ) \\\\\\\\Function ('left' )(Symbol ('C_' ){Integer (1 )}-Symbol ('t' )\\\\\\\\Symbol ('right' ))}}{Symbol ('b' )**{Integer (3 )}}\"",
      "\nThe above exception was the direct cause of the following exception:\n",
      "\u001b[1;31mSyntaxError\u001b[0m                               Traceback (most recent call last)",
      "File \u001b[1;32mC:\\ProgramData\\anaconda3\\Lib\\site-packages\\sympy\\core\\sympify.py:495\u001b[0m, in \u001b[0;36msympify\u001b[1;34m(a, locals, convert_xor, strict, rational, evaluate)\u001b[0m\n\u001b[0;32m    494\u001b[0m     a \u001b[38;5;241m=\u001b[39m a\u001b[38;5;241m.\u001b[39mreplace(\u001b[38;5;124m'\u001b[39m\u001b[38;5;130;01m\\n\u001b[39;00m\u001b[38;5;124m'\u001b[39m, \u001b[38;5;124m'\u001b[39m\u001b[38;5;124m'\u001b[39m)\n\u001b[1;32m--> 495\u001b[0m     expr \u001b[38;5;241m=\u001b[39m parse_expr(a, local_dict\u001b[38;5;241m=\u001b[39m\u001b[38;5;28mlocals\u001b[39m, transformations\u001b[38;5;241m=\u001b[39mtransformations, evaluate\u001b[38;5;241m=\u001b[39mevaluate)\n\u001b[0;32m    496\u001b[0m \u001b[38;5;28;01mexcept\u001b[39;00m (TokenError, \u001b[38;5;167;01mSyntaxError\u001b[39;00m) \u001b[38;5;28;01mas\u001b[39;00m exc:\n",
      "File \u001b[1;32mC:\\ProgramData\\anaconda3\\Lib\\site-packages\\sympy\\parsing\\sympy_parser.py:1087\u001b[0m, in \u001b[0;36mparse_expr\u001b[1;34m(s, local_dict, transformations, global_dict, evaluate)\u001b[0m\n\u001b[0;32m   1086\u001b[0m     local_dict[i] \u001b[38;5;241m=\u001b[39m null\n\u001b[1;32m-> 1087\u001b[0m \u001b[38;5;28;01mraise\u001b[39;00m e \u001b[38;5;28;01mfrom\u001b[39;00m \u001b[38;5;21;01mValueError\u001b[39;00m(\u001b[38;5;124mf\u001b[39m\u001b[38;5;124m\"\u001b[39m\u001b[38;5;124mError from parse_expr with transformed code: \u001b[39m\u001b[38;5;132;01m{\u001b[39;00mcode\u001b[38;5;132;01m!r}\u001b[39;00m\u001b[38;5;124m\"\u001b[39m)\n",
      "File \u001b[1;32mC:\\ProgramData\\anaconda3\\Lib\\site-packages\\sympy\\parsing\\sympy_parser.py:1078\u001b[0m, in \u001b[0;36mparse_expr\u001b[1;34m(s, local_dict, transformations, global_dict, evaluate)\u001b[0m\n\u001b[0;32m   1077\u001b[0m \u001b[38;5;28;01mtry\u001b[39;00m:\n\u001b[1;32m-> 1078\u001b[0m     rv \u001b[38;5;241m=\u001b[39m eval_expr(code, local_dict, global_dict)\n\u001b[0;32m   1079\u001b[0m     \u001b[38;5;66;03m# restore neutral definitions for names\u001b[39;00m\n",
      "File \u001b[1;32mC:\\ProgramData\\anaconda3\\Lib\\site-packages\\sympy\\parsing\\sympy_parser.py:906\u001b[0m, in \u001b[0;36meval_expr\u001b[1;34m(code, local_dict, global_dict)\u001b[0m\n\u001b[0;32m    901\u001b[0m \u001b[38;5;250m\u001b[39m\u001b[38;5;124;03m\"\"\"\u001b[39;00m\n\u001b[0;32m    902\u001b[0m \u001b[38;5;124;03mEvaluate Python code generated by ``stringify_expr``.\u001b[39;00m\n\u001b[0;32m    903\u001b[0m \n\u001b[0;32m    904\u001b[0m \u001b[38;5;124;03mGenerally, ``parse_expr`` should be used.\u001b[39;00m\n\u001b[0;32m    905\u001b[0m \u001b[38;5;124;03m\"\"\"\u001b[39;00m\n\u001b[1;32m--> 906\u001b[0m expr \u001b[38;5;241m=\u001b[39m \u001b[38;5;28meval\u001b[39m(\n\u001b[0;32m    907\u001b[0m     code, global_dict, local_dict)  \u001b[38;5;66;03m# take local objects in preference\u001b[39;00m\n\u001b[0;32m    908\u001b[0m \u001b[38;5;28;01mreturn\u001b[39;00m expr\n",
      "\u001b[1;31mSyntaxError\u001b[0m: unexpected character after line continuation character (<string>, line 1)",
      "\nDuring handling of the above exception, another exception occurred:\n",
      "\u001b[1;31mSympifyError\u001b[0m                              Traceback (most recent call last)",
      "Cell \u001b[1;32mIn[25], line 5\u001b[0m\n\u001b[0;32m      2\u001b[0m latex_expresion \u001b[38;5;241m=\u001b[39m \u001b[38;5;124mr\u001b[39m\u001b[38;5;124m'\u001b[39m\u001b[38;5;130;01m\\\\\u001b[39;00m\u001b[38;5;124mfrac\u001b[39m\u001b[38;5;124m{\u001b[39m\u001b[38;5;124ma^\u001b[39m\u001b[38;5;132;01m{3}\u001b[39;00m\u001b[38;5;124m + 3 a^\u001b[39m\u001b[38;5;132;01m{2}\u001b[39;00m\u001b[38;5;124m b e^\u001b[39m\u001b[38;5;124m{\u001b[39m\u001b[38;5;130;01m\\\\\u001b[39;00m\u001b[38;5;124mfrac\u001b[39m\u001b[38;5;124m{\u001b[39m\u001b[38;5;124mb \u001b[39m\u001b[38;5;130;01m\\\\\u001b[39;00m\u001b[38;5;124mleft(C_\u001b[39m\u001b[38;5;132;01m{1}\u001b[39;00m\u001b[38;5;124m - t\u001b[39m\u001b[38;5;130;01m\\\\\u001b[39;00m\u001b[38;5;124mright)}\u001b[39m\u001b[38;5;132;01m{3}\u001b[39;00m\u001b[38;5;124m} + 3 a b^\u001b[39m\u001b[38;5;132;01m{2}\u001b[39;00m\u001b[38;5;124m e^\u001b[39m\u001b[38;5;124m{\u001b[39m\u001b[38;5;130;01m\\\\\u001b[39;00m\u001b[38;5;124mfrac\u001b[39m\u001b[38;5;124m{\u001b[39m\u001b[38;5;124m2 b \u001b[39m\u001b[38;5;130;01m\\\\\u001b[39;00m\u001b[38;5;124mleft(C_\u001b[39m\u001b[38;5;132;01m{1}\u001b[39;00m\u001b[38;5;124m - t\u001b[39m\u001b[38;5;130;01m\\\\\u001b[39;00m\u001b[38;5;124mright)}\u001b[39m\u001b[38;5;132;01m{3}\u001b[39;00m\u001b[38;5;124m} + b^\u001b[39m\u001b[38;5;132;01m{3}\u001b[39;00m\u001b[38;5;124m e^\u001b[39m\u001b[38;5;124m{\u001b[39m\u001b[38;5;124mb \u001b[39m\u001b[38;5;130;01m\\\\\u001b[39;00m\u001b[38;5;124mleft(C_\u001b[39m\u001b[38;5;132;01m{1}\u001b[39;00m\u001b[38;5;124m - t\u001b[39m\u001b[38;5;130;01m\\\\\u001b[39;00m\u001b[38;5;124mright)}}\u001b[39m\u001b[38;5;124m{\u001b[39m\u001b[38;5;124mb^\u001b[39m\u001b[38;5;132;01m{3}\u001b[39;00m\u001b[38;5;124m}\u001b[39m\u001b[38;5;124m'\u001b[39m\n\u001b[0;32m      4\u001b[0m \u001b[38;5;66;03m# Convertir LaTeX a expresión simbólica en SymPy\u001b[39;00m\n\u001b[1;32m----> 5\u001b[0m expresion_sympy \u001b[38;5;241m=\u001b[39m sympify(latex_expresion)\n\u001b[0;32m      6\u001b[0m expresion_sympy\n",
      "File \u001b[1;32mC:\\ProgramData\\anaconda3\\Lib\\site-packages\\sympy\\core\\sympify.py:497\u001b[0m, in \u001b[0;36msympify\u001b[1;34m(a, locals, convert_xor, strict, rational, evaluate)\u001b[0m\n\u001b[0;32m    495\u001b[0m     expr \u001b[38;5;241m=\u001b[39m parse_expr(a, local_dict\u001b[38;5;241m=\u001b[39m\u001b[38;5;28mlocals\u001b[39m, transformations\u001b[38;5;241m=\u001b[39mtransformations, evaluate\u001b[38;5;241m=\u001b[39mevaluate)\n\u001b[0;32m    496\u001b[0m \u001b[38;5;28;01mexcept\u001b[39;00m (TokenError, \u001b[38;5;167;01mSyntaxError\u001b[39;00m) \u001b[38;5;28;01mas\u001b[39;00m exc:\n\u001b[1;32m--> 497\u001b[0m     \u001b[38;5;28;01mraise\u001b[39;00m SympifyError(\u001b[38;5;124m'\u001b[39m\u001b[38;5;124mcould not parse \u001b[39m\u001b[38;5;132;01m%r\u001b[39;00m\u001b[38;5;124m'\u001b[39m \u001b[38;5;241m%\u001b[39m a, exc)\n\u001b[0;32m    499\u001b[0m \u001b[38;5;28;01mreturn\u001b[39;00m expr\n",
      "\u001b[1;31mSympifyError\u001b[0m: Sympify of expression 'could not parse '\\\\\\\\frac{a^{3} + 3 a^{2} b e^{\\\\\\\\frac{b \\\\\\\\left(C_{1} - t\\\\\\\\right)}{3}} + 3 a b^{2} e^{\\\\\\\\frac{2 b \\\\\\\\left(C_{1} - t\\\\\\\\right)}{3}} + b^{3} e^{b \\\\\\\\left(C_{1} - t\\\\\\\\right)}}{b^{3}}'' failed, because of exception being raised:\nSyntaxError: unexpected character after line continuation character (<string>, line 1)"
     ]
    }
   ],
   "source": [
    "\n",
    "\n",
    "# Expresión en formato LaTeX\n",
    "latex_expresion = r'\\\\frac{a^{3} + 3 a^{2} b e^{\\\\frac{b \\\\left(C_{1} - t\\\\right)}{3}} + 3 a b^{2} e^{\\\\frac{2 b \\\\left(C_{1} - t\\\\right)}{3}} + b^{3} e^{b \\\\left(C_{1} - t\\\\right)}}{b^{3}}'\n",
    "\n",
    "# Convertir LaTeX a expresión simbólica en SymPy\n",
    "expresion_sympy = sympify(latex_expresion)\n",
    "expresion_sympy"
   ]
  },
  {
   "cell_type": "code",
   "execution_count": 22,
   "id": "c99b479f-05a6-41d3-be1d-d02b7cdfa55f",
   "metadata": {},
   "outputs": [
    {
     "ename": "NotImplementedError",
     "evalue": "Result depends on the sign of -sign(b)",
     "output_type": "error",
     "traceback": [
      "\u001b[1;31m---------------------------------------------------------------------------\u001b[0m",
      "\u001b[1;31mNotImplementedError\u001b[0m                       Traceback (most recent call last)",
      "Cell \u001b[1;32mIn[22], line 3\u001b[0m\n\u001b[0;32m      1\u001b[0m \u001b[38;5;66;03m# Calcular el límite cuando t tiende a infinito\u001b[39;00m\n\u001b[0;32m      2\u001b[0m \u001b[38;5;28;01mfrom\u001b[39;00m \u001b[38;5;21;01msympy\u001b[39;00m \u001b[38;5;28;01mimport\u001b[39;00m symbols, limit, oo, exp\n\u001b[1;32m----> 3\u001b[0m limite_infinito \u001b[38;5;241m=\u001b[39m limit(W_1, t, oo)\n\u001b[0;32m      4\u001b[0m limite_infinito\n",
      "File \u001b[1;32mC:\\ProgramData\\anaconda3\\Lib\\site-packages\\sympy\\series\\limits.py:64\u001b[0m, in \u001b[0;36mlimit\u001b[1;34m(e, z, z0, dir)\u001b[0m\n\u001b[0;32m     13\u001b[0m \u001b[38;5;28;01mdef\u001b[39;00m \u001b[38;5;21mlimit\u001b[39m(e, z, z0, \u001b[38;5;28mdir\u001b[39m\u001b[38;5;241m=\u001b[39m\u001b[38;5;124m\"\u001b[39m\u001b[38;5;124m+\u001b[39m\u001b[38;5;124m\"\u001b[39m):\n\u001b[0;32m     14\u001b[0m \u001b[38;5;250m    \u001b[39m\u001b[38;5;124;03m\"\"\"Computes the limit of ``e(z)`` at the point ``z0``.\u001b[39;00m\n\u001b[0;32m     15\u001b[0m \n\u001b[0;32m     16\u001b[0m \u001b[38;5;124;03m    Parameters\u001b[39;00m\n\u001b[1;32m   (...)\u001b[0m\n\u001b[0;32m     61\u001b[0m \u001b[38;5;124;03m     limit_seq : returns the limit of a sequence.\u001b[39;00m\n\u001b[0;32m     62\u001b[0m \u001b[38;5;124;03m    \"\"\"\u001b[39;00m\n\u001b[1;32m---> 64\u001b[0m     \u001b[38;5;28;01mreturn\u001b[39;00m Limit(e, z, z0, \u001b[38;5;28mdir\u001b[39m)\u001b[38;5;241m.\u001b[39mdoit(deep\u001b[38;5;241m=\u001b[39m\u001b[38;5;28;01mFalse\u001b[39;00m)\n",
      "File \u001b[1;32mC:\\ProgramData\\anaconda3\\Lib\\site-packages\\sympy\\series\\limits.py:375\u001b[0m, in \u001b[0;36mLimit.doit\u001b[1;34m(self, **hints)\u001b[0m\n\u001b[0;32m    372\u001b[0m l \u001b[38;5;241m=\u001b[39m \u001b[38;5;28;01mNone\u001b[39;00m\n\u001b[0;32m    374\u001b[0m \u001b[38;5;28;01mtry\u001b[39;00m:\n\u001b[1;32m--> 375\u001b[0m     r \u001b[38;5;241m=\u001b[39m gruntz(e, z, z0, \u001b[38;5;28mdir\u001b[39m)\n\u001b[0;32m    376\u001b[0m     \u001b[38;5;28;01mif\u001b[39;00m r \u001b[38;5;129;01mis\u001b[39;00m S\u001b[38;5;241m.\u001b[39mNaN \u001b[38;5;129;01mor\u001b[39;00m l \u001b[38;5;129;01mis\u001b[39;00m S\u001b[38;5;241m.\u001b[39mNaN:\n\u001b[0;32m    377\u001b[0m         \u001b[38;5;28;01mraise\u001b[39;00m PoleError()\n",
      "File \u001b[1;32mC:\\ProgramData\\anaconda3\\Lib\\site-packages\\sympy\\series\\gruntz.py:732\u001b[0m, in \u001b[0;36mgruntz\u001b[1;34m(e, z, z0, dir)\u001b[0m\n\u001b[0;32m    729\u001b[0m     \u001b[38;5;28;01melse\u001b[39;00m:\n\u001b[0;32m    730\u001b[0m         \u001b[38;5;28;01mraise\u001b[39;00m \u001b[38;5;167;01mNotImplementedError\u001b[39;00m(\u001b[38;5;124m\"\u001b[39m\u001b[38;5;124mdir must be \u001b[39m\u001b[38;5;124m'\u001b[39m\u001b[38;5;124m+\u001b[39m\u001b[38;5;124m'\u001b[39m\u001b[38;5;124m or \u001b[39m\u001b[38;5;124m'\u001b[39m\u001b[38;5;124m-\u001b[39m\u001b[38;5;124m'\u001b[39m\u001b[38;5;124m\"\u001b[39m)\n\u001b[1;32m--> 732\u001b[0m r \u001b[38;5;241m=\u001b[39m limitinf(e0, z)\n\u001b[0;32m    734\u001b[0m \u001b[38;5;66;03m# This is a bit of a heuristic for nice results... we always rewrite\u001b[39;00m\n\u001b[0;32m    735\u001b[0m \u001b[38;5;66;03m# tractable functions in terms of familiar intractable ones.\u001b[39;00m\n\u001b[0;32m    736\u001b[0m \u001b[38;5;66;03m# It might be nicer to rewrite the exactly to what they were initially,\u001b[39;00m\n\u001b[0;32m    737\u001b[0m \u001b[38;5;66;03m# but that would take some work to implement.\u001b[39;00m\n\u001b[0;32m    738\u001b[0m \u001b[38;5;28;01mreturn\u001b[39;00m r\u001b[38;5;241m.\u001b[39mrewrite(\u001b[38;5;124m'\u001b[39m\u001b[38;5;124mintractable\u001b[39m\u001b[38;5;124m'\u001b[39m, deep\u001b[38;5;241m=\u001b[39m\u001b[38;5;28;01mTrue\u001b[39;00m)\n",
      "File \u001b[1;32mC:\\ProgramData\\anaconda3\\Lib\\site-packages\\sympy\\core\\cache.py:72\u001b[0m, in \u001b[0;36m__cacheit.<locals>.func_wrapper.<locals>.wrapper\u001b[1;34m(*args, **kwargs)\u001b[0m\n\u001b[0;32m     69\u001b[0m \u001b[38;5;129m@wraps\u001b[39m(func)\n\u001b[0;32m     70\u001b[0m \u001b[38;5;28;01mdef\u001b[39;00m \u001b[38;5;21mwrapper\u001b[39m(\u001b[38;5;241m*\u001b[39margs, \u001b[38;5;241m*\u001b[39m\u001b[38;5;241m*\u001b[39mkwargs):\n\u001b[0;32m     71\u001b[0m     \u001b[38;5;28;01mtry\u001b[39;00m:\n\u001b[1;32m---> 72\u001b[0m         retval \u001b[38;5;241m=\u001b[39m cfunc(\u001b[38;5;241m*\u001b[39margs, \u001b[38;5;241m*\u001b[39m\u001b[38;5;241m*\u001b[39mkwargs)\n\u001b[0;32m     73\u001b[0m     \u001b[38;5;28;01mexcept\u001b[39;00m \u001b[38;5;167;01mTypeError\u001b[39;00m \u001b[38;5;28;01mas\u001b[39;00m e:\n\u001b[0;32m     74\u001b[0m         \u001b[38;5;28;01mif\u001b[39;00m \u001b[38;5;129;01mnot\u001b[39;00m e\u001b[38;5;241m.\u001b[39margs \u001b[38;5;129;01mor\u001b[39;00m \u001b[38;5;129;01mnot\u001b[39;00m e\u001b[38;5;241m.\u001b[39margs[\u001b[38;5;241m0\u001b[39m]\u001b[38;5;241m.\u001b[39mstartswith(\u001b[38;5;124m'\u001b[39m\u001b[38;5;124munhashable type:\u001b[39m\u001b[38;5;124m'\u001b[39m):\n",
      "File \u001b[1;32mC:\\ProgramData\\anaconda3\\Lib\\site-packages\\sympy\\series\\gruntz.py:452\u001b[0m, in \u001b[0;36mlimitinf\u001b[1;34m(e, x)\u001b[0m\n\u001b[0;32m    450\u001b[0m     c0, e0 \u001b[38;5;241m=\u001b[39m mrv_leadterm(e\u001b[38;5;241m.\u001b[39mmin, x)\n\u001b[0;32m    451\u001b[0m \u001b[38;5;28;01melse\u001b[39;00m:\n\u001b[1;32m--> 452\u001b[0m     c0, e0 \u001b[38;5;241m=\u001b[39m mrv_leadterm(e, x)\n\u001b[0;32m    453\u001b[0m sig \u001b[38;5;241m=\u001b[39m sign(e0, x)\n\u001b[0;32m    454\u001b[0m \u001b[38;5;28;01mif\u001b[39;00m sig \u001b[38;5;241m==\u001b[39m \u001b[38;5;241m1\u001b[39m:\n",
      "File \u001b[1;32mC:\\ProgramData\\anaconda3\\Lib\\site-packages\\sympy\\core\\cache.py:72\u001b[0m, in \u001b[0;36m__cacheit.<locals>.func_wrapper.<locals>.wrapper\u001b[1;34m(*args, **kwargs)\u001b[0m\n\u001b[0;32m     69\u001b[0m \u001b[38;5;129m@wraps\u001b[39m(func)\n\u001b[0;32m     70\u001b[0m \u001b[38;5;28;01mdef\u001b[39;00m \u001b[38;5;21mwrapper\u001b[39m(\u001b[38;5;241m*\u001b[39margs, \u001b[38;5;241m*\u001b[39m\u001b[38;5;241m*\u001b[39mkwargs):\n\u001b[0;32m     71\u001b[0m     \u001b[38;5;28;01mtry\u001b[39;00m:\n\u001b[1;32m---> 72\u001b[0m         retval \u001b[38;5;241m=\u001b[39m cfunc(\u001b[38;5;241m*\u001b[39margs, \u001b[38;5;241m*\u001b[39m\u001b[38;5;241m*\u001b[39mkwargs)\n\u001b[0;32m     73\u001b[0m     \u001b[38;5;28;01mexcept\u001b[39;00m \u001b[38;5;167;01mTypeError\u001b[39;00m \u001b[38;5;28;01mas\u001b[39;00m e:\n\u001b[0;32m     74\u001b[0m         \u001b[38;5;28;01mif\u001b[39;00m \u001b[38;5;129;01mnot\u001b[39;00m e\u001b[38;5;241m.\u001b[39margs \u001b[38;5;129;01mor\u001b[39;00m \u001b[38;5;129;01mnot\u001b[39;00m e\u001b[38;5;241m.\u001b[39margs[\u001b[38;5;241m0\u001b[39m]\u001b[38;5;241m.\u001b[39mstartswith(\u001b[38;5;124m'\u001b[39m\u001b[38;5;124munhashable type:\u001b[39m\u001b[38;5;124m'\u001b[39m):\n",
      "File \u001b[1;32mC:\\ProgramData\\anaconda3\\Lib\\site-packages\\sympy\\series\\gruntz.py:554\u001b[0m, in \u001b[0;36mmrv_leadterm\u001b[1;34m(e, x)\u001b[0m\n\u001b[0;32m    546\u001b[0m \u001b[38;5;66;03m#\u001b[39;00m\n\u001b[0;32m    547\u001b[0m \u001b[38;5;66;03m# The positive dummy, w, is used here so log(w*2) etc. will expand;\u001b[39;00m\n\u001b[0;32m    548\u001b[0m \u001b[38;5;66;03m# a unique dummy is needed in this algorithm\u001b[39;00m\n\u001b[1;32m   (...)\u001b[0m\n\u001b[0;32m    551\u001b[0m \u001b[38;5;66;03m# improved, or just find limits of Re and Im components separately.\u001b[39;00m\n\u001b[0;32m    552\u001b[0m \u001b[38;5;66;03m#\u001b[39;00m\n\u001b[0;32m    553\u001b[0m w \u001b[38;5;241m=\u001b[39m Dummy(\u001b[38;5;124m\"\u001b[39m\u001b[38;5;124mw\u001b[39m\u001b[38;5;124m\"\u001b[39m, positive\u001b[38;5;241m=\u001b[39m\u001b[38;5;28;01mTrue\u001b[39;00m)\n\u001b[1;32m--> 554\u001b[0m f, logw \u001b[38;5;241m=\u001b[39m rewrite(exps, Omega, x, w)\n\u001b[0;32m    555\u001b[0m \u001b[38;5;28;01mtry\u001b[39;00m:\n\u001b[0;32m    556\u001b[0m     lt \u001b[38;5;241m=\u001b[39m f\u001b[38;5;241m.\u001b[39mleadterm(w, logx\u001b[38;5;241m=\u001b[39mlogw)\n",
      "File \u001b[1;32mC:\\ProgramData\\anaconda3\\Lib\\site-packages\\sympy\\series\\gruntz.py:647\u001b[0m, in \u001b[0;36mrewrite\u001b[1;34m(e, Omega, x, wsym)\u001b[0m\n\u001b[0;32m    645\u001b[0m     sig \u001b[38;5;241m=\u001b[39m sign(g\u001b[38;5;241m.\u001b[39mexp, x)\n\u001b[0;32m    646\u001b[0m     \u001b[38;5;28;01mif\u001b[39;00m sig \u001b[38;5;241m!=\u001b[39m \u001b[38;5;241m1\u001b[39m \u001b[38;5;129;01mand\u001b[39;00m sig \u001b[38;5;241m!=\u001b[39m \u001b[38;5;241m-\u001b[39m\u001b[38;5;241m1\u001b[39m \u001b[38;5;129;01mand\u001b[39;00m \u001b[38;5;129;01mnot\u001b[39;00m sig\u001b[38;5;241m.\u001b[39mhas(AccumBounds):\n\u001b[1;32m--> 647\u001b[0m         \u001b[38;5;28;01mraise\u001b[39;00m \u001b[38;5;167;01mNotImplementedError\u001b[39;00m(\u001b[38;5;124m'\u001b[39m\u001b[38;5;124mResult depends on the sign of \u001b[39m\u001b[38;5;132;01m%s\u001b[39;00m\u001b[38;5;124m'\u001b[39m \u001b[38;5;241m%\u001b[39m sig)\n\u001b[0;32m    648\u001b[0m \u001b[38;5;28;01mif\u001b[39;00m sig \u001b[38;5;241m==\u001b[39m \u001b[38;5;241m1\u001b[39m:\n\u001b[0;32m    649\u001b[0m     wsym \u001b[38;5;241m=\u001b[39m \u001b[38;5;241m1\u001b[39m\u001b[38;5;241m/\u001b[39mwsym  \u001b[38;5;66;03m# if g goes to oo, substitute 1/w\u001b[39;00m\n",
      "\u001b[1;31mNotImplementedError\u001b[0m: Result depends on the sign of -sign(b)"
     ]
    }
   ],
   "source": [
    "# Calcular el límite cuando t tiende a infinito\n",
    "from sympy import symbols, limit, oo, exp\n",
    "limite_infinito = limit(W_1, t, oo)\n",
    "limite_infinito "
   ]
  },
  {
   "cell_type": "code",
   "execution_count": 53,
   "id": "399fb499-0595-45e1-a020-5635ac698a8a",
   "metadata": {},
   "outputs": [
    {
     "data": {
      "text/plain": [
       "'W{\\\\left(\\\\infty \\\\right)} = \\\\frac{a^{3} + 3 a^{2} b e^{\\\\frac{b \\\\left(C_{1} - \\\\infty\\\\right)}{3}} + 3 a b^{2} e^{\\\\frac{2 b \\\\left(C_{1} - \\\\infty\\\\right)}{3}} + b^{3} e^{b \\\\left(C_{1} - \\\\infty\\\\right)}}{b^{3}}'"
      ]
     },
     "execution_count": 53,
     "metadata": {},
     "output_type": "execute_result"
    }
   ],
   "source": [
    "latex(W_infinito)"
   ]
  },
  {
   "cell_type": "code",
   "execution_count": 55,
   "id": "e1bd1f22-e163-4e95-8024-bda79e99fae9",
   "metadata": {},
   "outputs": [
    {
     "data": {
      "text/latex": [
       "$\\displaystyle \\lim_{C_{1} \\to \\infty}\\left(\\frac{a^{3} + 3 a^{2} b e^{\\frac{b \\left(C_{1} - \\infty\\right)}{3}} + 3 a b^{2} e^{\\frac{2 b \\left(C_{1} - \\infty\\right)}{3}} + b^{3} e^{b \\left(C_{1} - \\infty\\right)}}{b^{3}}\\right)$"
      ],
      "text/plain": [
       "Limit((a**3 + 3*a**2*b*exp(b*(C1 - oo)/3) + 3*a*b**2*exp(2*b*(C1 - oo)/3) + b**3*exp(b*(C1 - oo)))/b**3, C1, oo, dir='-')"
      ]
     },
     "execution_count": 55,
     "metadata": {},
     "output_type": "execute_result"
    }
   ],
   "source": [
    "from sympy import symbols, exp, limit\n",
    "\n",
    "# Define los símbolos\n",
    "a, b, C1 = symbols('a b C1')\n",
    "\n",
    "# Define la expresión para W(infinito)\n",
    "W_infinito = (a**3 + 3*a**2*b*0/3) + 3*a*b**2*0/3) + b**3*0) / b**3\n",
    "\n",
    "# Calcula el límite cuando t tiende a infinito\n",
    "limite_infinito = limit(W_infinito, C1, oo)\n",
    "\n",
    "# Muestra el resultado\n",
    "limite_infinito"
   ]
  },
  {
   "cell_type": "code",
   "execution_count": 48,
   "id": "33a3f7cd-3778-42c7-8020-ad5a0fde8386",
   "metadata": {},
   "outputs": [
    {
     "ename": "ValueError",
     "evalue": "El signo de 'b' no puede ser determinado.",
     "output_type": "error",
     "traceback": [
      "\u001b[1;31m---------------------------------------------------------------------------\u001b[0m",
      "\u001b[1;31mValueError\u001b[0m                                Traceback (most recent call last)",
      "Cell \u001b[1;32mIn[48], line 20\u001b[0m\n\u001b[0;32m     18\u001b[0m         limite_infinito \u001b[38;5;241m=\u001b[39m limit(W_solucion\u001b[38;5;241m.\u001b[39msubs(b, \u001b[38;5;241m-\u001b[39mb), t, oo)\n\u001b[0;32m     19\u001b[0m     \u001b[38;5;28;01melse\u001b[39;00m:\n\u001b[1;32m---> 20\u001b[0m         \u001b[38;5;28;01mraise\u001b[39;00m \u001b[38;5;167;01mValueError\u001b[39;00m(\u001b[38;5;124m\"\u001b[39m\u001b[38;5;124mEl signo de \u001b[39m\u001b[38;5;124m'\u001b[39m\u001b[38;5;124mb\u001b[39m\u001b[38;5;124m'\u001b[39m\u001b[38;5;124m no puede ser determinado.\u001b[39m\u001b[38;5;124m\"\u001b[39m)\n\u001b[0;32m     21\u001b[0m \u001b[38;5;28;01melse\u001b[39;00m:\n\u001b[0;32m     22\u001b[0m     \u001b[38;5;28;01mraise\u001b[39;00m \u001b[38;5;167;01mValueError\u001b[39;00m(\u001b[38;5;124m\"\u001b[39m\u001b[38;5;124mEl límite no está definido cuando \u001b[39m\u001b[38;5;124m'\u001b[39m\u001b[38;5;124mb\u001b[39m\u001b[38;5;124m'\u001b[39m\u001b[38;5;124m es igual a cero.\u001b[39m\u001b[38;5;124m\"\u001b[39m)\n",
      "\u001b[1;31mValueError\u001b[0m: El signo de 'b' no puede ser determinado."
     ]
    }
   ],
   "source": [
    "from sympy import symbols, limit, oo, exp, sign\n",
    "from sympy.series.gruntz import mrv_leadterm\n",
    "\n",
    "# Define los símbolos\n",
    "t, a, b, C1 = symbols('t a b C1')\n",
    "\n",
    "# Define la solución para W(t)\n",
    "W_solucion = (a**3/b**3) + (3*a**2 * exp(C1*b/3 - b*t/3) / b**2) + (3*a * exp(2*C1*b/3 - 2*b*t/3) / b) + exp(C1*b - b*t)\n",
    "\n",
    "# Calcula el límite cuando t tiende a infinito dependiendo del signo de b\n",
    "if b != 0:\n",
    "    signo_b = sign(b)\n",
    "    if signo_b == 1:\n",
    "        c0, e0 = mrv_leadterm(W_solucion, t)\n",
    "        limite_infinito = limit(W_solucion, t, oo)\n",
    "    elif signo_b == -1:\n",
    "        c0, e0 = mrv_leadterm(W_solucion.subs(b, -b), t)\n",
    "        limite_infinito = limit(W_solucion.subs(b, -b), t, oo)\n",
    "    else:\n",
    "        raise ValueError(\"El signo de 'b' no puede ser determinado.\")\n",
    "else:\n",
    "    raise ValueError(\"El límite no está definido cuando 'b' es igual a cero.\")\n",
    "\n",
    "# Redondea el límite y muestra el resultado\n",
    "limite_infinito = round(limite_infinito)\n",
    "print(\"Límite cuando t tiende a infinito:\", limite_infinito)\n"
   ]
  },
  {
   "cell_type": "code",
   "execution_count": 47,
   "id": "1f1acb9b-2dec-4800-a43d-c1283af87967",
   "metadata": {},
   "outputs": [
    {
     "ename": "NotImplementedError",
     "evalue": "Result depends on the sign of -sign(b)",
     "output_type": "error",
     "traceback": [
      "\u001b[1;31m---------------------------------------------------------------------------\u001b[0m",
      "\u001b[1;31mNotImplementedError\u001b[0m                       Traceback (most recent call last)",
      "Cell \u001b[1;32mIn[47], line 3\u001b[0m\n\u001b[0;32m      1\u001b[0m \u001b[38;5;66;03m# Calcular el límite cuando t tiende a infinito\u001b[39;00m\n\u001b[0;32m      2\u001b[0m \u001b[38;5;28;01mfrom\u001b[39;00m \u001b[38;5;21;01msympy\u001b[39;00m \u001b[38;5;28;01mimport\u001b[39;00m symbols, limit, oo, exp\n\u001b[1;32m----> 3\u001b[0m limite_infinito \u001b[38;5;241m=\u001b[39m limit(W_solucion2\u001b[38;5;241m.\u001b[39mrhs, t, oo)\n\u001b[0;32m      4\u001b[0m limite_infinito \u001b[38;5;241m=\u001b[39m \u001b[38;5;28mround\u001b[39m(limite_infinito)\n\u001b[0;32m      5\u001b[0m display(Markdown(\u001b[38;5;124mf\u001b[39m\u001b[38;5;124m\"\u001b[39m\u001b[38;5;124m<center><span style=\u001b[39m\u001b[38;5;124m'\u001b[39m\u001b[38;5;124mfont-size:20px;\u001b[39m\u001b[38;5;124m'\u001b[39m\u001b[38;5;124m>$$\u001b[39m\u001b[38;5;132;01m{\u001b[39;00mlatex(W_solucion2)\u001b[38;5;132;01m}\u001b[39;00m\u001b[38;5;124m$$</span></center>\u001b[39m\u001b[38;5;124m\"\u001b[39m))\n",
      "File \u001b[1;32mC:\\ProgramData\\anaconda3\\Lib\\site-packages\\sympy\\series\\limits.py:64\u001b[0m, in \u001b[0;36mlimit\u001b[1;34m(e, z, z0, dir)\u001b[0m\n\u001b[0;32m     13\u001b[0m \u001b[38;5;28;01mdef\u001b[39;00m \u001b[38;5;21mlimit\u001b[39m(e, z, z0, \u001b[38;5;28mdir\u001b[39m\u001b[38;5;241m=\u001b[39m\u001b[38;5;124m\"\u001b[39m\u001b[38;5;124m+\u001b[39m\u001b[38;5;124m\"\u001b[39m):\n\u001b[0;32m     14\u001b[0m \u001b[38;5;250m    \u001b[39m\u001b[38;5;124;03m\"\"\"Computes the limit of ``e(z)`` at the point ``z0``.\u001b[39;00m\n\u001b[0;32m     15\u001b[0m \n\u001b[0;32m     16\u001b[0m \u001b[38;5;124;03m    Parameters\u001b[39;00m\n\u001b[1;32m   (...)\u001b[0m\n\u001b[0;32m     61\u001b[0m \u001b[38;5;124;03m     limit_seq : returns the limit of a sequence.\u001b[39;00m\n\u001b[0;32m     62\u001b[0m \u001b[38;5;124;03m    \"\"\"\u001b[39;00m\n\u001b[1;32m---> 64\u001b[0m     \u001b[38;5;28;01mreturn\u001b[39;00m Limit(e, z, z0, \u001b[38;5;28mdir\u001b[39m)\u001b[38;5;241m.\u001b[39mdoit(deep\u001b[38;5;241m=\u001b[39m\u001b[38;5;28;01mFalse\u001b[39;00m)\n",
      "File \u001b[1;32mC:\\ProgramData\\anaconda3\\Lib\\site-packages\\sympy\\series\\limits.py:375\u001b[0m, in \u001b[0;36mLimit.doit\u001b[1;34m(self, **hints)\u001b[0m\n\u001b[0;32m    372\u001b[0m l \u001b[38;5;241m=\u001b[39m \u001b[38;5;28;01mNone\u001b[39;00m\n\u001b[0;32m    374\u001b[0m \u001b[38;5;28;01mtry\u001b[39;00m:\n\u001b[1;32m--> 375\u001b[0m     r \u001b[38;5;241m=\u001b[39m gruntz(e, z, z0, \u001b[38;5;28mdir\u001b[39m)\n\u001b[0;32m    376\u001b[0m     \u001b[38;5;28;01mif\u001b[39;00m r \u001b[38;5;129;01mis\u001b[39;00m S\u001b[38;5;241m.\u001b[39mNaN \u001b[38;5;129;01mor\u001b[39;00m l \u001b[38;5;129;01mis\u001b[39;00m S\u001b[38;5;241m.\u001b[39mNaN:\n\u001b[0;32m    377\u001b[0m         \u001b[38;5;28;01mraise\u001b[39;00m PoleError()\n",
      "File \u001b[1;32mC:\\ProgramData\\anaconda3\\Lib\\site-packages\\sympy\\series\\gruntz.py:732\u001b[0m, in \u001b[0;36mgruntz\u001b[1;34m(e, z, z0, dir)\u001b[0m\n\u001b[0;32m    729\u001b[0m     \u001b[38;5;28;01melse\u001b[39;00m:\n\u001b[0;32m    730\u001b[0m         \u001b[38;5;28;01mraise\u001b[39;00m \u001b[38;5;167;01mNotImplementedError\u001b[39;00m(\u001b[38;5;124m\"\u001b[39m\u001b[38;5;124mdir must be \u001b[39m\u001b[38;5;124m'\u001b[39m\u001b[38;5;124m+\u001b[39m\u001b[38;5;124m'\u001b[39m\u001b[38;5;124m or \u001b[39m\u001b[38;5;124m'\u001b[39m\u001b[38;5;124m-\u001b[39m\u001b[38;5;124m'\u001b[39m\u001b[38;5;124m\"\u001b[39m)\n\u001b[1;32m--> 732\u001b[0m r \u001b[38;5;241m=\u001b[39m limitinf(e0, z)\n\u001b[0;32m    734\u001b[0m \u001b[38;5;66;03m# This is a bit of a heuristic for nice results... we always rewrite\u001b[39;00m\n\u001b[0;32m    735\u001b[0m \u001b[38;5;66;03m# tractable functions in terms of familiar intractable ones.\u001b[39;00m\n\u001b[0;32m    736\u001b[0m \u001b[38;5;66;03m# It might be nicer to rewrite the exactly to what they were initially,\u001b[39;00m\n\u001b[0;32m    737\u001b[0m \u001b[38;5;66;03m# but that would take some work to implement.\u001b[39;00m\n\u001b[0;32m    738\u001b[0m \u001b[38;5;28;01mreturn\u001b[39;00m r\u001b[38;5;241m.\u001b[39mrewrite(\u001b[38;5;124m'\u001b[39m\u001b[38;5;124mintractable\u001b[39m\u001b[38;5;124m'\u001b[39m, deep\u001b[38;5;241m=\u001b[39m\u001b[38;5;28;01mTrue\u001b[39;00m)\n",
      "File \u001b[1;32mC:\\ProgramData\\anaconda3\\Lib\\site-packages\\sympy\\core\\cache.py:72\u001b[0m, in \u001b[0;36m__cacheit.<locals>.func_wrapper.<locals>.wrapper\u001b[1;34m(*args, **kwargs)\u001b[0m\n\u001b[0;32m     69\u001b[0m \u001b[38;5;129m@wraps\u001b[39m(func)\n\u001b[0;32m     70\u001b[0m \u001b[38;5;28;01mdef\u001b[39;00m \u001b[38;5;21mwrapper\u001b[39m(\u001b[38;5;241m*\u001b[39margs, \u001b[38;5;241m*\u001b[39m\u001b[38;5;241m*\u001b[39mkwargs):\n\u001b[0;32m     71\u001b[0m     \u001b[38;5;28;01mtry\u001b[39;00m:\n\u001b[1;32m---> 72\u001b[0m         retval \u001b[38;5;241m=\u001b[39m cfunc(\u001b[38;5;241m*\u001b[39margs, \u001b[38;5;241m*\u001b[39m\u001b[38;5;241m*\u001b[39mkwargs)\n\u001b[0;32m     73\u001b[0m     \u001b[38;5;28;01mexcept\u001b[39;00m \u001b[38;5;167;01mTypeError\u001b[39;00m \u001b[38;5;28;01mas\u001b[39;00m e:\n\u001b[0;32m     74\u001b[0m         \u001b[38;5;28;01mif\u001b[39;00m \u001b[38;5;129;01mnot\u001b[39;00m e\u001b[38;5;241m.\u001b[39margs \u001b[38;5;129;01mor\u001b[39;00m \u001b[38;5;129;01mnot\u001b[39;00m e\u001b[38;5;241m.\u001b[39margs[\u001b[38;5;241m0\u001b[39m]\u001b[38;5;241m.\u001b[39mstartswith(\u001b[38;5;124m'\u001b[39m\u001b[38;5;124munhashable type:\u001b[39m\u001b[38;5;124m'\u001b[39m):\n",
      "File \u001b[1;32mC:\\ProgramData\\anaconda3\\Lib\\site-packages\\sympy\\series\\gruntz.py:452\u001b[0m, in \u001b[0;36mlimitinf\u001b[1;34m(e, x)\u001b[0m\n\u001b[0;32m    450\u001b[0m     c0, e0 \u001b[38;5;241m=\u001b[39m mrv_leadterm(e\u001b[38;5;241m.\u001b[39mmin, x)\n\u001b[0;32m    451\u001b[0m \u001b[38;5;28;01melse\u001b[39;00m:\n\u001b[1;32m--> 452\u001b[0m     c0, e0 \u001b[38;5;241m=\u001b[39m mrv_leadterm(e, x)\n\u001b[0;32m    453\u001b[0m sig \u001b[38;5;241m=\u001b[39m sign(e0, x)\n\u001b[0;32m    454\u001b[0m \u001b[38;5;28;01mif\u001b[39;00m sig \u001b[38;5;241m==\u001b[39m \u001b[38;5;241m1\u001b[39m:\n",
      "File \u001b[1;32mC:\\ProgramData\\anaconda3\\Lib\\site-packages\\sympy\\core\\cache.py:72\u001b[0m, in \u001b[0;36m__cacheit.<locals>.func_wrapper.<locals>.wrapper\u001b[1;34m(*args, **kwargs)\u001b[0m\n\u001b[0;32m     69\u001b[0m \u001b[38;5;129m@wraps\u001b[39m(func)\n\u001b[0;32m     70\u001b[0m \u001b[38;5;28;01mdef\u001b[39;00m \u001b[38;5;21mwrapper\u001b[39m(\u001b[38;5;241m*\u001b[39margs, \u001b[38;5;241m*\u001b[39m\u001b[38;5;241m*\u001b[39mkwargs):\n\u001b[0;32m     71\u001b[0m     \u001b[38;5;28;01mtry\u001b[39;00m:\n\u001b[1;32m---> 72\u001b[0m         retval \u001b[38;5;241m=\u001b[39m cfunc(\u001b[38;5;241m*\u001b[39margs, \u001b[38;5;241m*\u001b[39m\u001b[38;5;241m*\u001b[39mkwargs)\n\u001b[0;32m     73\u001b[0m     \u001b[38;5;28;01mexcept\u001b[39;00m \u001b[38;5;167;01mTypeError\u001b[39;00m \u001b[38;5;28;01mas\u001b[39;00m e:\n\u001b[0;32m     74\u001b[0m         \u001b[38;5;28;01mif\u001b[39;00m \u001b[38;5;129;01mnot\u001b[39;00m e\u001b[38;5;241m.\u001b[39margs \u001b[38;5;129;01mor\u001b[39;00m \u001b[38;5;129;01mnot\u001b[39;00m e\u001b[38;5;241m.\u001b[39margs[\u001b[38;5;241m0\u001b[39m]\u001b[38;5;241m.\u001b[39mstartswith(\u001b[38;5;124m'\u001b[39m\u001b[38;5;124munhashable type:\u001b[39m\u001b[38;5;124m'\u001b[39m):\n",
      "File \u001b[1;32mC:\\ProgramData\\anaconda3\\Lib\\site-packages\\sympy\\series\\gruntz.py:554\u001b[0m, in \u001b[0;36mmrv_leadterm\u001b[1;34m(e, x)\u001b[0m\n\u001b[0;32m    546\u001b[0m \u001b[38;5;66;03m#\u001b[39;00m\n\u001b[0;32m    547\u001b[0m \u001b[38;5;66;03m# The positive dummy, w, is used here so log(w*2) etc. will expand;\u001b[39;00m\n\u001b[0;32m    548\u001b[0m \u001b[38;5;66;03m# a unique dummy is needed in this algorithm\u001b[39;00m\n\u001b[1;32m   (...)\u001b[0m\n\u001b[0;32m    551\u001b[0m \u001b[38;5;66;03m# improved, or just find limits of Re and Im components separately.\u001b[39;00m\n\u001b[0;32m    552\u001b[0m \u001b[38;5;66;03m#\u001b[39;00m\n\u001b[0;32m    553\u001b[0m w \u001b[38;5;241m=\u001b[39m Dummy(\u001b[38;5;124m\"\u001b[39m\u001b[38;5;124mw\u001b[39m\u001b[38;5;124m\"\u001b[39m, positive\u001b[38;5;241m=\u001b[39m\u001b[38;5;28;01mTrue\u001b[39;00m)\n\u001b[1;32m--> 554\u001b[0m f, logw \u001b[38;5;241m=\u001b[39m rewrite(exps, Omega, x, w)\n\u001b[0;32m    555\u001b[0m \u001b[38;5;28;01mtry\u001b[39;00m:\n\u001b[0;32m    556\u001b[0m     lt \u001b[38;5;241m=\u001b[39m f\u001b[38;5;241m.\u001b[39mleadterm(w, logx\u001b[38;5;241m=\u001b[39mlogw)\n",
      "File \u001b[1;32mC:\\ProgramData\\anaconda3\\Lib\\site-packages\\sympy\\series\\gruntz.py:647\u001b[0m, in \u001b[0;36mrewrite\u001b[1;34m(e, Omega, x, wsym)\u001b[0m\n\u001b[0;32m    645\u001b[0m     sig \u001b[38;5;241m=\u001b[39m sign(g\u001b[38;5;241m.\u001b[39mexp, x)\n\u001b[0;32m    646\u001b[0m     \u001b[38;5;28;01mif\u001b[39;00m sig \u001b[38;5;241m!=\u001b[39m \u001b[38;5;241m1\u001b[39m \u001b[38;5;129;01mand\u001b[39;00m sig \u001b[38;5;241m!=\u001b[39m \u001b[38;5;241m-\u001b[39m\u001b[38;5;241m1\u001b[39m \u001b[38;5;129;01mand\u001b[39;00m \u001b[38;5;129;01mnot\u001b[39;00m sig\u001b[38;5;241m.\u001b[39mhas(AccumBounds):\n\u001b[1;32m--> 647\u001b[0m         \u001b[38;5;28;01mraise\u001b[39;00m \u001b[38;5;167;01mNotImplementedError\u001b[39;00m(\u001b[38;5;124m'\u001b[39m\u001b[38;5;124mResult depends on the sign of \u001b[39m\u001b[38;5;132;01m%s\u001b[39;00m\u001b[38;5;124m'\u001b[39m \u001b[38;5;241m%\u001b[39m sig)\n\u001b[0;32m    648\u001b[0m \u001b[38;5;28;01mif\u001b[39;00m sig \u001b[38;5;241m==\u001b[39m \u001b[38;5;241m1\u001b[39m:\n\u001b[0;32m    649\u001b[0m     wsym \u001b[38;5;241m=\u001b[39m \u001b[38;5;241m1\u001b[39m\u001b[38;5;241m/\u001b[39mwsym  \u001b[38;5;66;03m# if g goes to oo, substitute 1/w\u001b[39;00m\n",
      "\u001b[1;31mNotImplementedError\u001b[0m: Result depends on the sign of -sign(b)"
     ]
    }
   ],
   "source": [
    "# Calcular el límite cuando t tiende a infinito\n",
    "from sympy import symbols, limit, oo, exp\n",
    "limite_infinito = limit(W_solucion2.rhs, t, oo)\n",
    "limite_infinito = round(limite_infinito)\n",
    "display(Markdown(f\"<center><span style='font-size:20px;'>$${latex(W_solucion2)}$$</span></center>\"))\n",
    "display(Markdown(f\"<center><span style='font-size:30px; color:red'>C) El peso Limite es de {limite_infinito} libras</span></center>\"))"
   ]
  },
  {
   "cell_type": "markdown",
   "id": "2e3f33b9-00ef-4bf3-aebc-ef29a7641c2f",
   "metadata": {},
   "source": [
    "----------------"
   ]
  },
  {
   "cell_type": "code",
   "execution_count": 31,
   "id": "75a19120-9e0e-425f-91b7-f64fede998a4",
   "metadata": {},
   "outputs": [
    {
     "data": {
      "text/markdown": [
       "<center><span style='font-size:20px;'>$$W{\\left(t \\right)} = \\begin{cases} \\frac{a^{3}}{b^{3}} + \\frac{3 a^{2} e^{\\frac{C_{1} b}{3} - \\frac{b t}{3}}}{b^{2}} + \\frac{3 a e^{\\frac{2 C_{1} b}{3} - \\frac{2 b t}{3}}}{b} + e^{C_{1} b - b t} & \\text{for}\\: b \\neq 0 \\\\\\text{NaN} & \\text{otherwise} \\end{cases}$$</span></center>"
      ],
      "text/plain": [
       "<IPython.core.display.Markdown object>"
      ]
     },
     "metadata": {},
     "output_type": "display_data"
    },
    {
     "data": {
      "text/markdown": [
       "<center><span style='font-size:30px; color:red'>B))  \\lim_{t \\to \\infty} \\begin{cases} \\frac{a^{3}}{b^{3}} + \\frac{3 a^{2} e^{\\frac{C_{1} b}{3} - \\frac{b t}{3}}}{b^{2}} + \\frac{3 a e^{\\frac{2 C_{1} b}{3} - \\frac{2 b t}{3}}}{b} + e^{C_{1} b - b t} & \\text{for}\\: b \\neq 0 \\\\\\text{NaN} & \\text{otherwise} \\end{cases} libras</span></center>"
      ],
      "text/plain": [
       "<IPython.core.display.Markdown object>"
      ]
     },
     "metadata": {},
     "output_type": "display_data"
    }
   ],
   "source": [
    "# Calcular el límite cuando t tiende a infinito\n",
    "from sympy import symbols, limit, oo, exp\n",
    "limite_infinito2 = limit(Sol[1].rhs, t, oo)\n",
    "#limite_infinito2 = round(limite_infinito2)\n",
    "display(Markdown(f\"<center><span style='font-size:20px;'>$${latex(Sol[1])}$$</span></center>\"))\n",
    "display(Markdown(f\"<center><span style='font-size:30px; color:red'>B))  {latex(limite_infinito2)}</span></center>\"))"
   ]
  },
  {
   "cell_type": "code",
   "execution_count": 146,
   "id": "bce4f1e0-7136-41b2-8785-213cb18c27cf",
   "metadata": {},
   "outputs": [
    {
     "data": {
      "text/latex": [
       "$\\displaystyle W{\\left(t \\right)} = C_{1} e^{- 0.005 t} + 142.857142857143$"
      ],
      "text/plain": [
       "Eq(W(t), C1*exp(-0.005*t) + 142.857142857143)"
      ]
     },
     "execution_count": 146,
     "metadata": {},
     "output_type": "execute_result"
    }
   ],
   "source": [
    "#Condiciones \n",
    "#Calorias 2,500 calorias\n",
    "#Peso = 180 libras\n",
    "#Tiempo = 0 dia\n",
    "Sol1 = Sol.subs(C,2500)\n",
    "Sol1"
   ]
  },
  {
   "cell_type": "code",
   "execution_count": 163,
   "id": "7051fa22-a17b-43cd-b88e-dc517a480142",
   "metadata": {},
   "outputs": [
    {
     "data": {
      "text/latex": [
       "$\\displaystyle W = C_{1} e^{- 0.005 t} + 142.857142857143$"
      ],
      "text/plain": [
       "Eq(W, C1*exp(-0.005*t) + 142.857142857143)"
      ]
     },
     "execution_count": 163,
     "metadata": {},
     "output_type": "execute_result"
    }
   ],
   "source": [
    "#Librerias\n",
    "from sympy import symbols, exp, Eq\n",
    "#Simbolos\n",
    "t, C1, W = symbols('t C1 W')\n",
    "\n",
    "# Definir la ecuacion\n",
    "Sol2 = Eq(W, Sol1.rhs)\n",
    "Sol2"
   ]
  },
  {
   "cell_type": "code",
   "execution_count": 148,
   "id": "a87ee3c8-6bc0-4162-ba08-285d7944b9d6",
   "metadata": {},
   "outputs": [
    {
     "data": {
      "text/latex": [
       "$\\displaystyle C_{1} = \\left(W - 142.857142857143\\right) e^{0.005 t}$"
      ],
      "text/plain": [
       "Eq(C1, (W - 142.857142857143)*exp(0.005*t))"
      ]
     },
     "execution_count": 148,
     "metadata": {},
     "output_type": "execute_result"
    }
   ],
   "source": [
    "#Encontrar C1\n",
    "Eqc1 = Eq(C1,solve(Sol2,C1)[0])\n",
    "Eqc1"
   ]
  },
  {
   "cell_type": "code",
   "execution_count": 149,
   "id": "e26825bf-cff0-481e-9d1b-2dee37d43290",
   "metadata": {},
   "outputs": [
    {
     "data": {
      "text/latex": [
       "$\\displaystyle C_{1} = 37.1428571428571 e^{0.005 t}$"
      ],
      "text/plain": [
       "Eq(C1, 37.1428571428571*exp(0.005*t))"
      ]
     },
     "execution_count": 149,
     "metadata": {},
     "output_type": "execute_result"
    }
   ],
   "source": [
    "#Condiciones Iniciales\n",
    "#Peso = 180 libras\n",
    "c1 = Eqc1.subs(W,180)\n",
    "c1"
   ]
  },
  {
   "cell_type": "code",
   "execution_count": 150,
   "id": "55005353-1d6c-4d94-84c1-272a41b63df7",
   "metadata": {},
   "outputs": [
    {
     "data": {
      "text/latex": [
       "$\\displaystyle C_{1} = 37.1428571428571$"
      ],
      "text/plain": [
       "Eq(C1, 37.1428571428571)"
      ]
     },
     "execution_count": 150,
     "metadata": {},
     "output_type": "execute_result"
    }
   ],
   "source": [
    "#Condiciones \n",
    "#Tiempo = 0 dia\n",
    "c = c1.subs(t,0)\n",
    "c"
   ]
  },
  {
   "cell_type": "code",
   "execution_count": 151,
   "id": "3a91664d-cd6f-4aa7-8e4b-08f11e8e1978",
   "metadata": {},
   "outputs": [
    {
     "data": {
      "text/markdown": [
       "<span style='font-size:18px;'>$$ W = 142.857142857143 + 37.1428571428571 e^{- 0.005 t} $$</span>"
      ],
      "text/plain": [
       "<IPython.core.display.Markdown object>"
      ]
     },
     "metadata": {},
     "output_type": "display_data"
    }
   ],
   "source": [
    "#Ecuacion Peso\n",
    "Sol3 = Sol2.subs(C1,c.rhs)\n",
    "display(Markdown(f\"<span style='font-size:18px;'>$$ {latex(Sol3)} $$</span>\"))"
   ]
  },
  {
   "cell_type": "code",
   "execution_count": 152,
   "id": "be7dc723-8612-450b-8c88-459b46497a16",
   "metadata": {},
   "outputs": [
    {
     "data": {
      "text/markdown": [
       "<span style='font-size:18px;'>$$ t = 200.0 \\log{\\left(\\frac{260.0}{7.0 W - 1000.0} \\right)} $$</span>"
      ],
      "text/plain": [
       "<IPython.core.display.Markdown object>"
      ]
     },
     "metadata": {},
     "output_type": "display_data"
    }
   ],
   "source": [
    "#Resolver para tiempo\n",
    "Sol4 = Eq(t,solve(Sol3,t)[0])\n",
    "display(Markdown(f\"<span style='font-size:18px;'>$$ {latex(Sol4)} $$</span>\"))"
   ]
  },
  {
   "cell_type": "code",
   "execution_count": 291,
   "id": "44ed8d42-34b9-4b84-9f0f-514e978a8221",
   "metadata": {},
   "outputs": [
    {
     "data": {
      "text/markdown": [
       "<center><span style='font-size:18px;'>Peso Persona = 145 libras</span></center>"
      ],
      "text/plain": [
       "<IPython.core.display.Markdown object>"
      ]
     },
     "metadata": {},
     "output_type": "display_data"
    }
   ],
   "source": [
    "#Peso de la Persona despues de Perder 35 libras\n",
    "Peso = 180 - 35\n",
    "display(Markdown(f\"<center><span style='font-size:18px;'>Peso Persona = {Peso} libras</span></center>\"))"
   ]
  },
  {
   "cell_type": "code",
   "execution_count": 153,
   "id": "3d52b25f-0bfd-4842-af0e-1e5f0c922bda",
   "metadata": {},
   "outputs": [
    {
     "data": {
      "text/latex": [
       "$\\displaystyle t = 570.526285982663$"
      ],
      "text/plain": [
       "Eq(t, 570.526285982663)"
      ]
     },
     "execution_count": 153,
     "metadata": {},
     "output_type": "execute_result"
    }
   ],
   "source": [
    "Sol5 = Sol4.subs(W,145)\n",
    "Sol5"
   ]
  },
  {
   "cell_type": "code",
   "execution_count": 154,
   "id": "186424cd-3376-4c3a-8577-86c30054f215",
   "metadata": {},
   "outputs": [
    {
     "data": {
      "text/markdown": [
       "<center><span style='font-size:18px;'>Tiempo = 571 dias</span></center>"
      ],
      "text/plain": [
       "<IPython.core.display.Markdown object>"
      ]
     },
     "metadata": {},
     "output_type": "display_data"
    }
   ],
   "source": [
    "tiempo35 = Sol5.rhs\n",
    "tiempo35 = round(tiempo35)\n",
    "display(Markdown(f\"<center><span style='font-size:18px;'>Tiempo = {tiempo35} dias</span></center>\"))"
   ]
  },
  {
   "cell_type": "code",
   "execution_count": 155,
   "id": "1093414c-7739-4803-97b3-9d044434dc58",
   "metadata": {},
   "outputs": [
    {
     "data": {
      "text/markdown": [
       "<center><span style='font-size:20px;'>Tiempo = 1 año y 204 dias</span></center>"
      ],
      "text/plain": [
       "<IPython.core.display.Markdown object>"
      ]
     },
     "metadata": {},
     "output_type": "display_data"
    }
   ],
   "source": [
    "#años y dias\n",
    "años = tiempo35/365\n",
    "años = round(años,2)\n",
    "dias = años - 1\n",
    "dias = dias * 365\n",
    "años2 = años - dias\n",
    "display(Markdown(f\"<center><span style='font-size:20px;'>Tiempo = 1 año y {dias} dias</span></center>\"))"
   ]
  },
  {
   "cell_type": "code",
   "execution_count": 315,
   "id": "41d4eca1-74dc-4fea-ba8e-037a701f573e",
   "metadata": {},
   "outputs": [
    {
     "data": {
      "text/markdown": [
       "<center><span style='font-size:30px; color:red;'>B) Tiempo para bajar 35 libras = 571 dias</span></center><br><center><span style='font-size:30px;'>B) Tiempo = 1 año y 204 dias</span></center>"
      ],
      "text/plain": [
       "<IPython.core.display.Markdown object>"
      ]
     },
     "metadata": {},
     "output_type": "display_data"
    }
   ],
   "source": [
    "display(Markdown(f\"<center><span style='font-size:30px; color:red;'>B) Tiempo para bajar 35 libras = {tiempo35} dias</span></center><br><center><span style='font-size:30px;'>B) Tiempo = 1 año y {dias} dias</span></center>\"))"
   ]
  },
  {
   "cell_type": "markdown",
   "id": "79a31c57-dd80-4517-809f-83f412a4bd99",
   "metadata": {},
   "source": [
    "-------------------------"
   ]
  },
  {
   "cell_type": "markdown",
   "id": "581a3d90-dc8f-4521-90c9-e22f291a2a4a",
   "metadata": {},
   "source": [
    "![Ejercicio4c](imagenes/ejercicio4C.PNG) "
   ]
  },
  {
   "cell_type": "code",
   "execution_count": 278,
   "id": "b097851c-d6e5-44b0-81c1-da0c3734c03e",
   "metadata": {},
   "outputs": [
    {
     "data": {
      "text/latex": [
       "$\\displaystyle W = 142.857142857143 + 37.1428571428571 e^{- 0.005 t}$"
      ],
      "text/plain": [
       "Eq(W, 142.857142857143 + 37.1428571428571*exp(-0.005*t))"
      ]
     },
     "execution_count": 278,
     "metadata": {},
     "output_type": "execute_result"
    }
   ],
   "source": [
    "Sol3"
   ]
  },
  {
   "cell_type": "code",
   "execution_count": 279,
   "id": "c20d0776-834b-4b26-9f6d-d681866b6ad9",
   "metadata": {},
   "outputs": [],
   "source": [
    "#Funcion Ecuacion\n",
    "def W(t):\n",
    "    return 142.857142857143 + 37.1428571428571 * e**(-0.005 * t)"
   ]
  },
  {
   "cell_type": "code",
   "execution_count": 280,
   "id": "29304610-0a8a-4289-a8be-74e35f9e6d35",
   "metadata": {},
   "outputs": [
    {
     "data": {
      "image/png": "[encoded data removed]",
      "text/plain": [
       "<Figure size 640x480 with 1 Axes>"
      ]
     },
     "metadata": {},
     "output_type": "display_data"
    }
   ],
   "source": [
    "#Rango\n",
    "t_valores = np.linspace(0, 1200, 100)\n",
    "\n",
    "# Calcular los valores de W para cada valor de t\n",
    "W_valores = W(t_valores)\n",
    "\n",
    "# Graficar la ecuación\n",
    "plot(t_valores, W_valores)\n",
    "xlabel('Tiempo (dias)')\n",
    "ylabel('Peso (Libras)')\n",
    "title(f' {latex(Sol3)} ')\n",
    "grid(True)\n",
    "show()"
   ]
  },
  {
   "cell_type": "code",
   "execution_count": 321,
   "id": "6921d0e1-2a81-4596-9186-7d8fe80041a3",
   "metadata": {},
   "outputs": [
    {
     "data": {
      "text/markdown": [
       "<center><span style='font-size:20px;'>$$W = 142.857142857143 + 37.1428571428571 e^{- 0.005 t}$$</span></center>"
      ],
      "text/plain": [
       "<IPython.core.display.Markdown object>"
      ]
     },
     "metadata": {},
     "output_type": "display_data"
    },
    {
     "data": {
      "text/markdown": [
       "<center><span style='font-size:30px; color:red'>C) El peso Limite es de 143 libras</span></center>"
      ],
      "text/plain": [
       "<IPython.core.display.Markdown object>"
      ]
     },
     "metadata": {},
     "output_type": "display_data"
    }
   ],
   "source": [
    "# Calcular el límite cuando t tiende a infinito\n",
    "from sympy import symbols, limit, oo, exp\n",
    "limite_infinito = limit(Sol3.rhs, t, oo)\n",
    "limite_infinito = round(limite_infinito)\n",
    "display(Markdown(f\"<center><span style='font-size:20px;'>$${latex(Sol3)}$$</span></center>\"))\n",
    "display(Markdown(f\"<center><span style='font-size:30px; color:red'>C) El peso Limite es de {limite_infinito} libras</span></center>\"))"
   ]
  },
  {
   "cell_type": "markdown",
   "id": "67901ff0-42ed-4774-a91e-4794e3328adb",
   "metadata": {},
   "source": [
    "-----------------"
   ]
  },
  {
   "cell_type": "markdown",
   "id": "62d2e17a-4812-4f1b-b5bd-36de239820b4",
   "metadata": {},
   "source": [
    "![Ejercicio2](imagenes/ejercicio4D.PNG) "
   ]
  },
  {
   "cell_type": "code",
   "execution_count": 184,
   "id": "d9d8f683-b63d-47ac-a6e7-56f538a3cd62",
   "metadata": {},
   "outputs": [
    {
     "data": {
      "text/latex": [
       "$\\displaystyle W = C_{1} e^{- 0.005 t} + 142.857142857143$"
      ],
      "text/plain": [
       "Eq(W, C1*exp(-0.005*t) + 142.857142857143)"
      ]
     },
     "execution_count": 184,
     "metadata": {},
     "output_type": "execute_result"
    }
   ],
   "source": [
    "#Simbolos\n",
    "t, C1, W = symbols('t C1 W')\n",
    "# Definir la ecuacion\n",
    "SolD = Eq(W, Sol1.rhs)\n",
    "SolD"
   ]
  },
  {
   "cell_type": "code",
   "execution_count": 186,
   "id": "0b58d355-a9b0-46cb-a016-f6e85f1391c1",
   "metadata": {},
   "outputs": [
    {
     "data": {
      "text/latex": [
       "$\\displaystyle C_{1} = \\left(W - 142.857142857143\\right) e^{0.005 t}$"
      ],
      "text/plain": [
       "Eq(C1, (W - 142.857142857143)*exp(0.005*t))"
      ]
     },
     "execution_count": 186,
     "metadata": {},
     "output_type": "execute_result"
    }
   ],
   "source": [
    "Dc1 = Eq(C1,solve(SolD,C1)[0])\n",
    "Dc1"
   ]
  },
  {
   "cell_type": "code",
   "execution_count": 187,
   "id": "5d4cc723-6fff-47fd-9b83-7f2a8e34b51a",
   "metadata": {},
   "outputs": [
    {
     "data": {
      "text/latex": [
       "$\\displaystyle C_{1} = W - 142.857142857143$"
      ],
      "text/plain": [
       "Eq(C1, W - 142.857142857143)"
      ]
     },
     "execution_count": 187,
     "metadata": {},
     "output_type": "execute_result"
    }
   ],
   "source": [
    "#Condiciones Iniciales\n",
    "#Tiempo = 0 dias\n",
    "#Peso = 200 libras\n",
    "Dc2 = Dc1.subs(t,0)\n",
    "Dc2"
   ]
  },
  {
   "cell_type": "code",
   "execution_count": 189,
   "id": "25319743-2505-499a-82e3-88ca66c9c620",
   "metadata": {},
   "outputs": [
    {
     "data": {
      "text/latex": [
       "$\\displaystyle C_{1} = 57.1428571428571$"
      ],
      "text/plain": [
       "Eq(C1, 57.1428571428571)"
      ]
     },
     "execution_count": 189,
     "metadata": {},
     "output_type": "execute_result"
    }
   ],
   "source": [
    "Dc3 = Dc2.subs(W,200)\n",
    "Dc3 "
   ]
  },
  {
   "cell_type": "code",
   "execution_count": 191,
   "id": "ffdb6ae5-69ca-429e-9b1b-3e88a93a4773",
   "metadata": {},
   "outputs": [
    {
     "data": {
      "text/latex": [
       "$\\displaystyle W = 142.857142857143 + 57.1428571428571 e^{- 0.005 t}$"
      ],
      "text/plain": [
       "Eq(W, 142.857142857143 + 57.1428571428571*exp(-0.005*t))"
      ]
     },
     "execution_count": 191,
     "metadata": {},
     "output_type": "execute_result"
    }
   ],
   "source": [
    "#Remplazar C1\n",
    "SoldD2 = SolD.subs(C1,Dc3.rhs)\n",
    "SoldD2"
   ]
  },
  {
   "cell_type": "code",
   "execution_count": 288,
   "id": "a01043bd-fa93-43a9-8250-10d6fc0c7eaa",
   "metadata": {},
   "outputs": [
    {
     "data": {
      "text/latex": [
       "$\\displaystyle t = 200.0 \\log{\\left(\\frac{400.0}{7.0 W - 1000.0} \\right)}$"
      ],
      "text/plain": [
       "Eq(t, 200.0*log(400.0/(7.0*W - 1000.0)))"
      ]
     },
     "execution_count": 288,
     "metadata": {},
     "output_type": "execute_result"
    }
   ],
   "source": [
    "#Despejar tiempo\n",
    "TiempoSoldD2 = Eq(t,solve(SoldD2,t)[0])\n",
    "TiempoSoldD2"
   ]
  },
  {
   "cell_type": "code",
   "execution_count": 292,
   "id": "3f5ef1bb-50f3-40ea-aa3a-1a73b95941ac",
   "metadata": {},
   "outputs": [
    {
     "data": {
      "text/markdown": [
       "<center><span style='font-size:18px;'>Peso Persona = 165 libras</span></center>"
      ],
      "text/plain": [
       "<IPython.core.display.Markdown object>"
      ]
     },
     "metadata": {},
     "output_type": "display_data"
    }
   ],
   "source": [
    "#Obtenre cuando la Persona pierde 35 libras\n",
    "Peso2 = 200 - 35\n",
    "display(Markdown(f\"<center><span style='font-size:18px;'>Peso Persona = {Peso2} libras</span></center>\"))"
   ]
  },
  {
   "cell_type": "code",
   "execution_count": 314,
   "id": "9bf983a9-010e-4ad6-a0a8-eceb9923bfde",
   "metadata": {},
   "outputs": [
    {
     "data": {
      "text/markdown": [
       "<center><span style='font-size:30px; color:red'>D -> B)Tiempo para bajar 35 libras = 190 dias</span></center>"
      ],
      "text/plain": [
       "<IPython.core.display.Markdown object>"
      ]
     },
     "metadata": {},
     "output_type": "display_data"
    }
   ],
   "source": [
    "W = symbols('W')\n",
    "tiempo165 = TiempoSoldD2.rhs\n",
    "tiempo165 = TiempoSoldD2.subs(W,165)\n",
    "tiempo165 = round(tiempo165.rhs)\n",
    "display(Markdown(f\"<center><span style='font-size:30px; color:red'>D -> B)Tiempo para bajar 35 libras = {tiempo165} dias</span></center>\"))"
   ]
  },
  {
   "cell_type": "code",
   "execution_count": 312,
   "id": "55768544-9179-4b1d-b840-105d3c155b89",
   "metadata": {},
   "outputs": [
    {
     "name": "stdout",
     "output_type": "stream",
     "text": [
      "190\n"
     ]
    }
   ],
   "source": [
    "from sympy import symbols, log\n",
    "\n",
    "# Definir el símbolo W\n",
    "W = symbols('W')\n",
    "\n",
    "# Definir la ecuación utilizando la función log de SymPy\n",
    "ecuacion = 200.0 * log(400.0 / (7.0 * W - 1000.0))\n",
    "\n",
    "# Sustituir W por 10 en la ecuación\n",
    "resultado = ecuacion.subs(W, 165)\n",
    "resultado = round(resultado)\n",
    "print(resultado)\n"
   ]
  },
  {
   "cell_type": "code",
   "execution_count": 274,
   "id": "ba2b7a32-adbf-45a1-a799-f60f59f23300",
   "metadata": {},
   "outputs": [],
   "source": [
    "#Funcion Ecuacion\n",
    "def W2(t):\n",
    "    Funcion = 142.857142857143 + 57.1428571428571*e**(-0.005*t)\n",
    "    return Funcion"
   ]
  },
  {
   "cell_type": "code",
   "execution_count": 275,
   "id": "6f414c22-37af-40fb-afd1-df14e2f3f481",
   "metadata": {},
   "outputs": [
    {
     "data": {
      "text/plain": [
       "169.18307319994102"
      ]
     },
     "execution_count": 275,
     "metadata": {},
     "output_type": "execute_result"
    }
   ],
   "source": [
    "W2(155)"
   ]
  },
  {
   "cell_type": "code",
   "execution_count": 281,
   "id": "a4f0772f-f7fa-456e-9d84-33d68fe18558",
   "metadata": {},
   "outputs": [
    {
     "data": {
      "image/png": "[encoded data removed]",
      "text/plain": [
       "<Figure size 640x480 with 1 Axes>"
      ]
     },
     "metadata": {},
     "output_type": "display_data"
    }
   ],
   "source": [
    "#Rango\n",
    "t2_valores = np.linspace(0, 1200, 100)\n",
    "\n",
    "# Calcular los valores de W para cada valor de t\n",
    "W2_valores = W2(t2_valores)\n",
    "\n",
    "# Graficar la ecuación\n",
    "plot(t2_valores, W2_valores)\n",
    "xlabel('Tiempo (dias)')\n",
    "ylabel('Peso (Libras)')\n",
    "title(f' {latex(SoldD3)} ')\n",
    "grid(True)\n",
    "show()"
   ]
  },
  {
   "cell_type": "code",
   "execution_count": 320,
   "id": "27531d7c-cc0a-4d10-94f5-62426b388a12",
   "metadata": {},
   "outputs": [
    {
     "data": {
      "text/markdown": [
       "<center><span style='font-size:20px;'>$$W = 142.857142857143 + 57.1428571428571 e^{- 0.005 t}$$</span></center>"
      ],
      "text/plain": [
       "<IPython.core.display.Markdown object>"
      ]
     },
     "metadata": {},
     "output_type": "display_data"
    },
    {
     "data": {
      "text/markdown": [
       "<center><span style='font-size:30px; color:red'>D -> C) El peso Limite es de 143 libras</span></center>"
      ],
      "text/plain": [
       "<IPython.core.display.Markdown object>"
      ]
     },
     "metadata": {},
     "output_type": "display_data"
    }
   ],
   "source": [
    "# Calcular el límite cuando t tiende a infinito\n",
    "from sympy import symbols, limit, oo, exp\n",
    "limite_infinito2 = limit(SoldD3.rhs, t, oo)\n",
    "limite_infinito2 = round(limite_infinito)\n",
    "display(Markdown(f\"<center><span style='font-size:20px;'>$${latex(SoldD2)}$$</span></center>\"))\n",
    "display(Markdown(f\"<center><span style='font-size:30px; color:red'>D -> C) El peso Limite es de {limite_infinito2} libras</span></center>\"))"
   ]
  },
  {
   "cell_type": "code",
   "execution_count": null,
   "id": "6951750a-97ff-4b38-a4f7-79db6aa77ae1",
   "metadata": {},
   "outputs": [],
   "source": []
  }
 ],
 "metadata": {
  "kernelspec": {
   "display_name": "Python 3 (ipykernel)",
   "language": "python",
   "name": "python3"
  },
  "language_info": {
   "codemirror_mode": {
    "name": "ipython",
    "version": 3
   },
   "file_extension": ".py",
   "mimetype": "text/x-python",
   "name": "python",
   "nbconvert_exporter": "python",
   "pygments_lexer": "ipython3",
   "version": "3.11.7"
  }
 },
 "nbformat": 4,
 "nbformat_minor": 5
}
