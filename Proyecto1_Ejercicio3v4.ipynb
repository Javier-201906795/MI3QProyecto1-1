{
 "cells": [
  {
   "cell_type": "code",
   "execution_count": 28,
   "id": "8786785c-f8b5-467e-b481-9594a67e3d46",
   "metadata": {},
   "outputs": [
    {
     "name": "stderr",
     "output_type": "stream",
     "text": [
      "\"[Ejercicio2]\" no se reconoce como un comando interno o externo,\n",
      "programa o archivo por lotes ejecutable.\n"
     ]
    }
   ],
   "source": [
    "![Ejercicio2](imagenes/ejercicio3.PNG)\n"
   ]
  },
  {
   "cell_type": "code",
   "execution_count": 27,
   "id": "f2ee8f94-2567-4d00-880f-48939684de6a",
   "metadata": {},
   "outputs": [],
   "source": [
    "from sympy import *\n",
    "from numpy import *\n",
    "from scipy.integrate import odeint\n",
    "from matplotlib.pyplot import *\n",
    "import matplotlib.pyplot as plt\n",
    "from IPython.display import display\n",
    "from scipy.integrate import odeint\n",
    "import matplotlib.pyplot as plt"
   ]
  },
  {
   "cell_type": "code",
   "execution_count": 33,
   "id": "2deae398-654a-4857-afa8-13c89b157816",
   "metadata": {},
   "outputs": [
    {
     "ename": "NameError",
     "evalue": "name 'ay' is not defined",
     "output_type": "error",
     "traceback": [
      "\u001b[1;31m---------------------------------------------------------------------------\u001b[0m",
      "\u001b[1;31mNameError\u001b[0m                                 Traceback (most recent call last)",
      "Cell \u001b[1;32mIn[33], line 16\u001b[0m\n\u001b[0;32m     13\u001b[0m t \u001b[38;5;241m=\u001b[39m np\u001b[38;5;241m.\u001b[39mlinspace(\u001b[38;5;241m0\u001b[39m, \u001b[38;5;241m20\u001b[39m, \u001b[38;5;241m100\u001b[39m)  \u001b[38;5;66;03m# Vector de tiempo\u001b[39;00m\n\u001b[0;32m     15\u001b[0m \u001b[38;5;66;03m# Resolver la ecuación diferencial\u001b[39;00m\n\u001b[1;32m---> 16\u001b[0m y \u001b[38;5;241m=\u001b[39m odeint(model, y0, t)\n\u001b[0;32m     18\u001b[0m \u001b[38;5;66;03m# Visualizar la solución\u001b[39;00m\n\u001b[0;32m     19\u001b[0m plt\u001b[38;5;241m.\u001b[39mplot(t, y)\n",
      "File \u001b[1;32m~\\anaconda3\\Lib\\site-packages\\scipy\\integrate\\_odepack_py.py:242\u001b[0m, in \u001b[0;36modeint\u001b[1;34m(func, y0, t, args, Dfun, col_deriv, full_output, ml, mu, rtol, atol, tcrit, h0, hmax, hmin, ixpr, mxstep, mxhnil, mxordn, mxords, printmessg, tfirst)\u001b[0m\n\u001b[0;32m    240\u001b[0m t \u001b[38;5;241m=\u001b[39m copy(t)\n\u001b[0;32m    241\u001b[0m y0 \u001b[38;5;241m=\u001b[39m copy(y0)\n\u001b[1;32m--> 242\u001b[0m output \u001b[38;5;241m=\u001b[39m _odepack\u001b[38;5;241m.\u001b[39modeint(func, y0, t, args, Dfun, col_deriv, ml, mu,\n\u001b[0;32m    243\u001b[0m                          full_output, rtol, atol, tcrit, h0, hmax, hmin,\n\u001b[0;32m    244\u001b[0m                          ixpr, mxstep, mxhnil, mxordn, mxords,\n\u001b[0;32m    245\u001b[0m                          \u001b[38;5;28mint\u001b[39m(\u001b[38;5;28mbool\u001b[39m(tfirst)))\n\u001b[0;32m    246\u001b[0m \u001b[38;5;28;01mif\u001b[39;00m output[\u001b[38;5;241m-\u001b[39m\u001b[38;5;241m1\u001b[39m] \u001b[38;5;241m<\u001b[39m \u001b[38;5;241m0\u001b[39m:\n\u001b[0;32m    247\u001b[0m     warning_msg \u001b[38;5;241m=\u001b[39m _msgs[output[\u001b[38;5;241m-\u001b[39m\u001b[38;5;241m1\u001b[39m]] \u001b[38;5;241m+\u001b[39m \u001b[38;5;124m\"\u001b[39m\u001b[38;5;124m Run with full_output = 1 to get quantitative information.\u001b[39m\u001b[38;5;124m\"\u001b[39m\n",
      "Cell \u001b[1;32mIn[33], line 8\u001b[0m, in \u001b[0;36mmodel\u001b[1;34m(y, t)\u001b[0m\n\u001b[0;32m      6\u001b[0m \u001b[38;5;28;01mdef\u001b[39;00m \u001b[38;5;21mmodel\u001b[39m(y, t):\n\u001b[0;32m      7\u001b[0m     k \u001b[38;5;241m=\u001b[39m \u001b[38;5;241m0.3\u001b[39m  \u001b[38;5;66;03m# Constante de decaimiento\u001b[39;00m\n\u001b[1;32m----> 8\u001b[0m     dydt \u001b[38;5;241m=\u001b[39m ay\u001b[38;5;241m*\u001b[39m\u001b[38;5;241m*\u001b[39m\u001b[38;5;241m2\u001b[39m\u001b[38;5;241m/\u001b[39m\u001b[38;5;241m3\u001b[39m\u001b[38;5;241m+\u001b[39mby \u001b[38;5;66;03m# Ecuación diferencial (aquí puedes definir cualquier EDO)\u001b[39;00m\n\u001b[0;32m      9\u001b[0m     \u001b[38;5;28;01mreturn\u001b[39;00m dydt\n",
      "\u001b[1;31mNameError\u001b[0m: name 'ay' is not defined"
     ]
    }
   ],
   "source": [
    "#a.) import numpy as np\n",
    "from scipy.integrate import odeint\n",
    "import matplotlib.pyplot as plt\n",
    "\n",
    "# Definir la función que representa la ecuación diferencial\n",
    "def model(y, t):\n",
    "    k = 0.3  # Constante de decaimiento\n",
    "    dydt = ay**2/3+by # Ecuación diferencial (aquí puedes definir cualquier EDO)\n",
    "    return dydt\n",
    "\n",
    "# Definir las condiciones iniciales\n",
    "y0 = 5  # Valor inicial de la función y(t)\n",
    "t = np.linspace(0, 20, 100)  # Vector de tiempo\n",
    "\n",
    "# Resolver la ecuación diferencial\n",
    "y = odeint(model, y0, t)\n",
    "\n",
    "# Visualizar la solución\n",
    "plt.plot(t, y)\n",
    "plt.xlabel('Tiempo')\n",
    "plt.ylabel('y(t)')\n",
    "plt.title('Solución de la Ecuación Diferencial')\n",
    "plt.grid(True)\n",
    "plt.show()"
   ]
  },
  {
   "cell_type": "code",
   "execution_count": null,
   "id": "0bcfd1e8-0d2f-479b-92a9-4b6d1d701d26",
   "metadata": {},
   "outputs": [],
   "source": []
  },
  {
   "cell_type": "code",
   "execution_count": null,
   "id": "4b61bf9d-5b09-4d71-86e8-b848eefc3a42",
   "metadata": {},
   "outputs": [],
   "source": []
  },
  {
   "cell_type": "code",
   "execution_count": null,
   "id": "730aa52e-6893-4176-978a-3784f3750d1b",
   "metadata": {},
   "outputs": [],
   "source": []
  },
  {
   "cell_type": "code",
   "execution_count": null,
   "id": "ff9dc872-3d1d-44c1-8827-2b13ab29631d",
   "metadata": {},
   "outputs": [],
   "source": []
  },
  {
   "cell_type": "code",
   "execution_count": null,
   "id": "67156aed-312f-421f-8fb4-fb16992a2044",
   "metadata": {},
   "outputs": [],
   "source": []
  }
 ],
 "metadata": {
  "kernelspec": {
   "display_name": "Python 3 (ipykernel)",
   "language": "python",
   "name": "python3"
  },
  "language_info": {
   "codemirror_mode": {
    "name": "ipython",
    "version": 3
   },
   "file_extension": ".py",
   "mimetype": "text/x-python",
   "name": "python",
   "nbconvert_exporter": "python",
   "pygments_lexer": "ipython3",
   "version": "3.11.7"
  }
 },
 "nbformat": 4,
 "nbformat_minor": 5
}
